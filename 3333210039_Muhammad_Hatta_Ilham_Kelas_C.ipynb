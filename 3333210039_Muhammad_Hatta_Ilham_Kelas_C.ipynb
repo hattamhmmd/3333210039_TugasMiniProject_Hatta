{
  "cells": [
    {
      "cell_type": "markdown",
      "metadata": {
        "id": "view-in-github",
        "colab_type": "text"
      },
      "source": [
        "<a href=\"https://colab.research.google.com/github/hattamhmmd/3333210039_TugasMiniProject_Hatta/blob/main/3333210039_Muhammad_Hatta_Ilham_Kelas_C.ipynb\" target=\"_parent\"><img src=\"https://colab.research.google.com/assets/colab-badge.svg\" alt=\"Open In Colab\"/></a>"
      ]
    },
    {
      "cell_type": "markdown",
      "source": [
        "## 1. Data Preprocessing"
      ],
      "metadata": {
        "id": "TFN6Of7TWe57"
      }
    },
    {
      "cell_type": "markdown",
      "source": [
        "## Overview\n",
        "\n",
        "Practice for Data Analytic Class in Merdeka Belajar \n",
        "\n",
        "## Objecive\n",
        "\n",
        "• Retrieving data \n",
        "\n",
        "• Cleansing, integrating\n",
        "dan transforming data\n",
        "\n",
        "• Data Preparation\n",
        "\n",
        "• Exploratory Data\n",
        "Analysis\n",
        "\n",
        "• Data Visualization\n"
      ],
      "metadata": {
        "id": "cvS878SumIw0"
      }
    },
    {
      "cell_type": "markdown",
      "source": [
        "Crime Dataset. Dataset ini adalah dataset tentang crime dataset. Dataset ini dapat di download pada link berikut \n",
        "https://www.kaggle.com/datasets/adoumtaiga/crime-data-set"
      ],
      "metadata": {
        "id": "0EcHLMXgZr5f"
      }
    },
    {
      "cell_type": "markdown",
      "source": [
        "**1.1 Importing Library**"
      ],
      "metadata": {
        "id": "bkmtGt_eZDfH"
      }
    },
    {
      "cell_type": "code",
      "execution_count": null,
      "metadata": {
        "id": "CvNhhTZtGoGV"
      },
      "outputs": [],
      "source": [
        "import pandas as pd\n",
        "import numpy as np\n",
        "import matplotlib.pyplot as plt\n",
        "from sklearn.preprocessing import LabelEncoder\n",
        "\n",
        "from sklearn.model_selection import train_test_split\n",
        "from sklearn.model_selection import cross_val_score\n",
        "from sklearn.model_selection import KFold\n",
        "from sklearn.metrics import accuracy_score"
      ]
    },
    {
      "cell_type": "markdown",
      "source": [
        "Pertama-tama import library yang akan digunakan"
      ],
      "metadata": {
        "id": "7vq6LrcbZLCE"
      }
    },
    {
      "cell_type": "markdown",
      "source": [
        "**1.2 Importing Dataset**"
      ],
      "metadata": {
        "id": "Ydt444CDW46r"
      }
    },
    {
      "cell_type": "code",
      "execution_count": null,
      "metadata": {
        "id": "SpkeEnsdTfH3",
        "colab": {
          "base_uri": "https://localhost:8080/"
        },
        "outputId": "f976f60c-74a3-49f3-8936-17457a34d992"
      },
      "outputs": [
        {
          "output_type": "stream",
          "name": "stdout",
          "text": [
            "Downloading...\n",
            "From: https://drive.google.com/uc?id=1et3fg3lsezTEE0HnZrdN0STil-34VYlC\n",
            "To: /content/Crime_Data.csv\n",
            "100% 49.3M/49.3M [00:00<00:00, 182MB/s]\n"
          ]
        }
      ],
      "source": [
        "!gdown 1et3fg3lsezTEE0HnZrdN0STil-34VYlC"
      ]
    },
    {
      "cell_type": "markdown",
      "source": [
        "Setelah itu import dataset yang sudah di upload di google drive dengan cara menyalin link google drive file tersebut."
      ],
      "metadata": {
        "id": "MGOgEGw-ZVHi"
      }
    },
    {
      "cell_type": "code",
      "source": [
        "import pandas as pd\n",
        "dataset = pd.read_csv('/content/Crime_Data.csv')\n",
        "dataset"
      ],
      "metadata": {
        "colab": {
          "base_uri": "https://localhost:8080/",
          "height": 554
        },
        "id": "N0fME_84YBzx",
        "outputId": "f1eb2c23-12e2-43d5-f6a1-01f57083f442"
      },
      "execution_count": null,
      "outputs": [
        {
          "output_type": "execute_result",
          "data": {
            "text/plain": [
              "         Report Number Occurred Date  Occurred Time Reported Date  \\\n",
              "0       20080000465209    12/13/1908         2114.0    12/13/2008   \n",
              "1       20100000202011    06/15/1964            0.0    06/15/2010   \n",
              "2        2012000023437    01/01/1973            0.0    01/25/2012   \n",
              "3       20130000327785    06/01/1974            0.0    09/09/2013   \n",
              "4       20160000289384    01/01/1975            0.0    08/11/2016   \n",
              "...                ...           ...            ...           ...   \n",
              "481371  20180000905946    07/01/2018            0.0    07/01/2018   \n",
              "481372  20180000240319    07/01/2018            0.0    07/01/2018   \n",
              "481373  20180000905953    07/01/2018            0.0    07/01/2018   \n",
              "481374  20070000430946           NaN            NaN    01/01/2007   \n",
              "481375  19990000333737           NaN            NaN    01/01/1999   \n",
              "\n",
              "        Reported Time          Crime Subcategory Primary Offense Description  \\\n",
              "0              2114.0                        DUI                  DUI-LIQUOR   \n",
              "1              1031.0  FAMILY OFFENSE-NONVIOLENT                 CHILD-OTHER   \n",
              "2              1048.0          SEX OFFENSE-OTHER                SEXOFF-OTHER   \n",
              "3              1117.0          SEX OFFENSE-OTHER                SEXOFF-OTHER   \n",
              "4              1054.0          SEX OFFENSE-OTHER                SEXOFF-OTHER   \n",
              "...               ...                        ...                         ...   \n",
              "481371          939.0                  CAR PROWL              THEFT-CARPROWL   \n",
              "481372         1109.0                  CAR PROWL              THEFT-CARPROWL   \n",
              "481373         1337.0                  CAR PROWL              THEFT-CARPROWL   \n",
              "481374            NaN                       RAPE                  RAPE-OTHER   \n",
              "481375            NaN             THEFT-SHOPLIFT              THEFT-SHOPLIFT   \n",
              "\n",
              "       Precinct Sector Beat              Neighborhood  \n",
              "0          EAST      G   G2  CENTRAL AREA/SQUIRE PARK  \n",
              "1          WEST      Q   Q2                QUEEN ANNE  \n",
              "2         NORTH      N   N2                 NORTHGATE  \n",
              "3       UNKNOWN    NaN  NaN                   UNKNOWN  \n",
              "4       UNKNOWN    NaN  NaN                   UNKNOWN  \n",
              "...         ...    ...  ...                       ...  \n",
              "481371     EAST      G   G2  CENTRAL AREA/SQUIRE PARK  \n",
              "481372     EAST      C   C3  CENTRAL AREA/SQUIRE PARK  \n",
              "481373    NORTH      L   L2                 NORTHGATE  \n",
              "481374  UNKNOWN    NaN  NaN                   UNKNOWN  \n",
              "481375  UNKNOWN    NaN  NaN                   UNKNOWN  \n",
              "\n",
              "[481376 rows x 11 columns]"
            ],
            "text/html": [
              "\n",
              "  <div id=\"df-20f876b0-90a1-45b1-a4c7-223389077091\">\n",
              "    <div class=\"colab-df-container\">\n",
              "      <div>\n",
              "<style scoped>\n",
              "    .dataframe tbody tr th:only-of-type {\n",
              "        vertical-align: middle;\n",
              "    }\n",
              "\n",
              "    .dataframe tbody tr th {\n",
              "        vertical-align: top;\n",
              "    }\n",
              "\n",
              "    .dataframe thead th {\n",
              "        text-align: right;\n",
              "    }\n",
              "</style>\n",
              "<table border=\"1\" class=\"dataframe\">\n",
              "  <thead>\n",
              "    <tr style=\"text-align: right;\">\n",
              "      <th></th>\n",
              "      <th>Report Number</th>\n",
              "      <th>Occurred Date</th>\n",
              "      <th>Occurred Time</th>\n",
              "      <th>Reported Date</th>\n",
              "      <th>Reported Time</th>\n",
              "      <th>Crime Subcategory</th>\n",
              "      <th>Primary Offense Description</th>\n",
              "      <th>Precinct</th>\n",
              "      <th>Sector</th>\n",
              "      <th>Beat</th>\n",
              "      <th>Neighborhood</th>\n",
              "    </tr>\n",
              "  </thead>\n",
              "  <tbody>\n",
              "    <tr>\n",
              "      <th>0</th>\n",
              "      <td>20080000465209</td>\n",
              "      <td>12/13/1908</td>\n",
              "      <td>2114.0</td>\n",
              "      <td>12/13/2008</td>\n",
              "      <td>2114.0</td>\n",
              "      <td>DUI</td>\n",
              "      <td>DUI-LIQUOR</td>\n",
              "      <td>EAST</td>\n",
              "      <td>G</td>\n",
              "      <td>G2</td>\n",
              "      <td>CENTRAL AREA/SQUIRE PARK</td>\n",
              "    </tr>\n",
              "    <tr>\n",
              "      <th>1</th>\n",
              "      <td>20100000202011</td>\n",
              "      <td>06/15/1964</td>\n",
              "      <td>0.0</td>\n",
              "      <td>06/15/2010</td>\n",
              "      <td>1031.0</td>\n",
              "      <td>FAMILY OFFENSE-NONVIOLENT</td>\n",
              "      <td>CHILD-OTHER</td>\n",
              "      <td>WEST</td>\n",
              "      <td>Q</td>\n",
              "      <td>Q2</td>\n",
              "      <td>QUEEN ANNE</td>\n",
              "    </tr>\n",
              "    <tr>\n",
              "      <th>2</th>\n",
              "      <td>2012000023437</td>\n",
              "      <td>01/01/1973</td>\n",
              "      <td>0.0</td>\n",
              "      <td>01/25/2012</td>\n",
              "      <td>1048.0</td>\n",
              "      <td>SEX OFFENSE-OTHER</td>\n",
              "      <td>SEXOFF-OTHER</td>\n",
              "      <td>NORTH</td>\n",
              "      <td>N</td>\n",
              "      <td>N2</td>\n",
              "      <td>NORTHGATE</td>\n",
              "    </tr>\n",
              "    <tr>\n",
              "      <th>3</th>\n",
              "      <td>20130000327785</td>\n",
              "      <td>06/01/1974</td>\n",
              "      <td>0.0</td>\n",
              "      <td>09/09/2013</td>\n",
              "      <td>1117.0</td>\n",
              "      <td>SEX OFFENSE-OTHER</td>\n",
              "      <td>SEXOFF-OTHER</td>\n",
              "      <td>UNKNOWN</td>\n",
              "      <td>NaN</td>\n",
              "      <td>NaN</td>\n",
              "      <td>UNKNOWN</td>\n",
              "    </tr>\n",
              "    <tr>\n",
              "      <th>4</th>\n",
              "      <td>20160000289384</td>\n",
              "      <td>01/01/1975</td>\n",
              "      <td>0.0</td>\n",
              "      <td>08/11/2016</td>\n",
              "      <td>1054.0</td>\n",
              "      <td>SEX OFFENSE-OTHER</td>\n",
              "      <td>SEXOFF-OTHER</td>\n",
              "      <td>UNKNOWN</td>\n",
              "      <td>NaN</td>\n",
              "      <td>NaN</td>\n",
              "      <td>UNKNOWN</td>\n",
              "    </tr>\n",
              "    <tr>\n",
              "      <th>...</th>\n",
              "      <td>...</td>\n",
              "      <td>...</td>\n",
              "      <td>...</td>\n",
              "      <td>...</td>\n",
              "      <td>...</td>\n",
              "      <td>...</td>\n",
              "      <td>...</td>\n",
              "      <td>...</td>\n",
              "      <td>...</td>\n",
              "      <td>...</td>\n",
              "      <td>...</td>\n",
              "    </tr>\n",
              "    <tr>\n",
              "      <th>481371</th>\n",
              "      <td>20180000905946</td>\n",
              "      <td>07/01/2018</td>\n",
              "      <td>0.0</td>\n",
              "      <td>07/01/2018</td>\n",
              "      <td>939.0</td>\n",
              "      <td>CAR PROWL</td>\n",
              "      <td>THEFT-CARPROWL</td>\n",
              "      <td>EAST</td>\n",
              "      <td>G</td>\n",
              "      <td>G2</td>\n",
              "      <td>CENTRAL AREA/SQUIRE PARK</td>\n",
              "    </tr>\n",
              "    <tr>\n",
              "      <th>481372</th>\n",
              "      <td>20180000240319</td>\n",
              "      <td>07/01/2018</td>\n",
              "      <td>0.0</td>\n",
              "      <td>07/01/2018</td>\n",
              "      <td>1109.0</td>\n",
              "      <td>CAR PROWL</td>\n",
              "      <td>THEFT-CARPROWL</td>\n",
              "      <td>EAST</td>\n",
              "      <td>C</td>\n",
              "      <td>C3</td>\n",
              "      <td>CENTRAL AREA/SQUIRE PARK</td>\n",
              "    </tr>\n",
              "    <tr>\n",
              "      <th>481373</th>\n",
              "      <td>20180000905953</td>\n",
              "      <td>07/01/2018</td>\n",
              "      <td>0.0</td>\n",
              "      <td>07/01/2018</td>\n",
              "      <td>1337.0</td>\n",
              "      <td>CAR PROWL</td>\n",
              "      <td>THEFT-CARPROWL</td>\n",
              "      <td>NORTH</td>\n",
              "      <td>L</td>\n",
              "      <td>L2</td>\n",
              "      <td>NORTHGATE</td>\n",
              "    </tr>\n",
              "    <tr>\n",
              "      <th>481374</th>\n",
              "      <td>20070000430946</td>\n",
              "      <td>NaN</td>\n",
              "      <td>NaN</td>\n",
              "      <td>01/01/2007</td>\n",
              "      <td>NaN</td>\n",
              "      <td>RAPE</td>\n",
              "      <td>RAPE-OTHER</td>\n",
              "      <td>UNKNOWN</td>\n",
              "      <td>NaN</td>\n",
              "      <td>NaN</td>\n",
              "      <td>UNKNOWN</td>\n",
              "    </tr>\n",
              "    <tr>\n",
              "      <th>481375</th>\n",
              "      <td>19990000333737</td>\n",
              "      <td>NaN</td>\n",
              "      <td>NaN</td>\n",
              "      <td>01/01/1999</td>\n",
              "      <td>NaN</td>\n",
              "      <td>THEFT-SHOPLIFT</td>\n",
              "      <td>THEFT-SHOPLIFT</td>\n",
              "      <td>UNKNOWN</td>\n",
              "      <td>NaN</td>\n",
              "      <td>NaN</td>\n",
              "      <td>UNKNOWN</td>\n",
              "    </tr>\n",
              "  </tbody>\n",
              "</table>\n",
              "<p>481376 rows × 11 columns</p>\n",
              "</div>\n",
              "      <button class=\"colab-df-convert\" onclick=\"convertToInteractive('df-20f876b0-90a1-45b1-a4c7-223389077091')\"\n",
              "              title=\"Convert this dataframe to an interactive table.\"\n",
              "              style=\"display:none;\">\n",
              "        \n",
              "  <svg xmlns=\"http://www.w3.org/2000/svg\" height=\"24px\"viewBox=\"0 0 24 24\"\n",
              "       width=\"24px\">\n",
              "    <path d=\"M0 0h24v24H0V0z\" fill=\"none\"/>\n",
              "    <path d=\"M18.56 5.44l.94 2.06.94-2.06 2.06-.94-2.06-.94-.94-2.06-.94 2.06-2.06.94zm-11 1L8.5 8.5l.94-2.06 2.06-.94-2.06-.94L8.5 2.5l-.94 2.06-2.06.94zm10 10l.94 2.06.94-2.06 2.06-.94-2.06-.94-.94-2.06-.94 2.06-2.06.94z\"/><path d=\"M17.41 7.96l-1.37-1.37c-.4-.4-.92-.59-1.43-.59-.52 0-1.04.2-1.43.59L10.3 9.45l-7.72 7.72c-.78.78-.78 2.05 0 2.83L4 21.41c.39.39.9.59 1.41.59.51 0 1.02-.2 1.41-.59l7.78-7.78 2.81-2.81c.8-.78.8-2.07 0-2.86zM5.41 20L4 18.59l7.72-7.72 1.47 1.35L5.41 20z\"/>\n",
              "  </svg>\n",
              "      </button>\n",
              "      \n",
              "  <style>\n",
              "    .colab-df-container {\n",
              "      display:flex;\n",
              "      flex-wrap:wrap;\n",
              "      gap: 12px;\n",
              "    }\n",
              "\n",
              "    .colab-df-convert {\n",
              "      background-color: #E8F0FE;\n",
              "      border: none;\n",
              "      border-radius: 50%;\n",
              "      cursor: pointer;\n",
              "      display: none;\n",
              "      fill: #1967D2;\n",
              "      height: 32px;\n",
              "      padding: 0 0 0 0;\n",
              "      width: 32px;\n",
              "    }\n",
              "\n",
              "    .colab-df-convert:hover {\n",
              "      background-color: #E2EBFA;\n",
              "      box-shadow: 0px 1px 2px rgba(60, 64, 67, 0.3), 0px 1px 3px 1px rgba(60, 64, 67, 0.15);\n",
              "      fill: #174EA6;\n",
              "    }\n",
              "\n",
              "    [theme=dark] .colab-df-convert {\n",
              "      background-color: #3B4455;\n",
              "      fill: #D2E3FC;\n",
              "    }\n",
              "\n",
              "    [theme=dark] .colab-df-convert:hover {\n",
              "      background-color: #434B5C;\n",
              "      box-shadow: 0px 1px 3px 1px rgba(0, 0, 0, 0.15);\n",
              "      filter: drop-shadow(0px 1px 2px rgba(0, 0, 0, 0.3));\n",
              "      fill: #FFFFFF;\n",
              "    }\n",
              "  </style>\n",
              "\n",
              "      <script>\n",
              "        const buttonEl =\n",
              "          document.querySelector('#df-20f876b0-90a1-45b1-a4c7-223389077091 button.colab-df-convert');\n",
              "        buttonEl.style.display =\n",
              "          google.colab.kernel.accessAllowed ? 'block' : 'none';\n",
              "\n",
              "        async function convertToInteractive(key) {\n",
              "          const element = document.querySelector('#df-20f876b0-90a1-45b1-a4c7-223389077091');\n",
              "          const dataTable =\n",
              "            await google.colab.kernel.invokeFunction('convertToInteractive',\n",
              "                                                     [key], {});\n",
              "          if (!dataTable) return;\n",
              "\n",
              "          const docLinkHtml = 'Like what you see? Visit the ' +\n",
              "            '<a target=\"_blank\" href=https://colab.research.google.com/notebooks/data_table.ipynb>data table notebook</a>'\n",
              "            + ' to learn more about interactive tables.';\n",
              "          element.innerHTML = '';\n",
              "          dataTable['output_type'] = 'display_data';\n",
              "          await google.colab.output.renderOutput(dataTable, element);\n",
              "          const docLink = document.createElement('div');\n",
              "          docLink.innerHTML = docLinkHtml;\n",
              "          element.appendChild(docLink);\n",
              "        }\n",
              "      </script>\n",
              "    </div>\n",
              "  </div>\n",
              "  "
            ]
          },
          "metadata": {},
          "execution_count": 4
        }
      ]
    },
    {
      "cell_type": "markdown",
      "source": [
        "Tampilkan file datasetnya. Pada dataset diatas terdapat 481376 baris dan 11 kolom"
      ],
      "metadata": {
        "id": "K82sbbaNZkOG"
      }
    },
    {
      "cell_type": "markdown",
      "source": [
        "## 2. Exploratory Data"
      ],
      "metadata": {
        "id": "UDDwMkOVdAS-"
      }
    },
    {
      "cell_type": "code",
      "source": [
        "dataset.shape"
      ],
      "metadata": {
        "colab": {
          "base_uri": "https://localhost:8080/"
        },
        "id": "gfY3IjMzdDsN",
        "outputId": "fcf13e1f-1c95-474a-c5a7-6078f70bcd64"
      },
      "execution_count": null,
      "outputs": [
        {
          "output_type": "execute_result",
          "data": {
            "text/plain": [
              "(481376, 11)"
            ]
          },
          "metadata": {},
          "execution_count": 5
        }
      ]
    },
    {
      "cell_type": "markdown",
      "source": [
        "Coding tersebut digunakan untuk menampilkan jumlah baris dan kolom yang terdapat pada dataset."
      ],
      "metadata": {
        "id": "Mm2b2mz4Zz2c"
      }
    },
    {
      "cell_type": "code",
      "source": [
        "dataset.columns"
      ],
      "metadata": {
        "colab": {
          "base_uri": "https://localhost:8080/"
        },
        "id": "v2bT3bcCdad5",
        "outputId": "b6f8920c-fd25-4d1e-f43f-df3d77ef812a"
      },
      "execution_count": null,
      "outputs": [
        {
          "output_type": "execute_result",
          "data": {
            "text/plain": [
              "Index(['Report Number', 'Occurred Date', 'Occurred Time', 'Reported Date',\n",
              "       'Reported Time', 'Crime Subcategory', 'Primary Offense Description',\n",
              "       'Precinct', 'Sector', 'Beat', 'Neighborhood'],\n",
              "      dtype='object')"
            ]
          },
          "metadata": {},
          "execution_count": 6
        }
      ]
    },
    {
      "cell_type": "markdown",
      "source": [
        "Coding tersebut digunakan untuk menampilkan nama nama kolom yang terdapat pada dataset."
      ],
      "metadata": {
        "id": "bbD4khmcaCuT"
      }
    },
    {
      "cell_type": "code",
      "source": [
        "dataset.dtypes"
      ],
      "metadata": {
        "colab": {
          "base_uri": "https://localhost:8080/"
        },
        "id": "DGucyPqGdstV",
        "outputId": "b303ac1a-01f4-4107-8c2e-0d380fc76578"
      },
      "execution_count": null,
      "outputs": [
        {
          "output_type": "execute_result",
          "data": {
            "text/plain": [
              "Report Number                    int64\n",
              "Occurred Date                   object\n",
              "Occurred Time                  float64\n",
              "Reported Date                   object\n",
              "Reported Time                  float64\n",
              "Crime Subcategory               object\n",
              "Primary Offense Description     object\n",
              "Precinct                        object\n",
              "Sector                          object\n",
              "Beat                            object\n",
              "Neighborhood                    object\n",
              "dtype: object"
            ]
          },
          "metadata": {},
          "execution_count": 7
        }
      ]
    },
    {
      "cell_type": "markdown",
      "source": [
        "Coding tersebut digunakan untuk menjelaskan jenis data kolom yang terdapat pada dataset. \n",
        "\n",
        "\n",
        "1. Int64 merupakan data numerical\n",
        "2. Object merupakan data categorical\n",
        "3. Float64 merupakan data numerical decimal\n",
        "\n",
        "\n",
        "\n",
        "\n",
        "\n"
      ],
      "metadata": {
        "id": "Mxj9_rrZaR_b"
      }
    },
    {
      "cell_type": "markdown",
      "source": [],
      "metadata": {
        "id": "K5ZdVJaQbA2o"
      }
    },
    {
      "cell_type": "code",
      "source": [
        "dataset.info()"
      ],
      "metadata": {
        "colab": {
          "base_uri": "https://localhost:8080/"
        },
        "id": "R5lpoJMgdqdl",
        "outputId": "b68af43a-86f2-46e7-af12-2ea535643a01"
      },
      "execution_count": null,
      "outputs": [
        {
          "output_type": "stream",
          "name": "stdout",
          "text": [
            "<class 'pandas.core.frame.DataFrame'>\n",
            "RangeIndex: 481376 entries, 0 to 481375\n",
            "Data columns (total 11 columns):\n",
            " #   Column                       Non-Null Count   Dtype  \n",
            "---  ------                       --------------   -----  \n",
            " 0   Report Number                481376 non-null  int64  \n",
            " 1   Occurred Date                481374 non-null  object \n",
            " 2   Occurred Time                481374 non-null  float64\n",
            " 3   Reported Date                481376 non-null  object \n",
            " 4   Reported Time                481374 non-null  float64\n",
            " 5   Crime Subcategory            481114 non-null  object \n",
            " 6   Primary Offense Description  481376 non-null  object \n",
            " 7   Precinct                     481370 non-null  object \n",
            " 8   Sector                       478367 non-null  object \n",
            " 9   Beat                         478414 non-null  object \n",
            " 10  Neighborhood                 481376 non-null  object \n",
            "dtypes: float64(2), int64(1), object(8)\n",
            "memory usage: 40.4+ MB\n"
          ]
        }
      ]
    },
    {
      "cell_type": "markdown",
      "source": [
        "Coding diatas digunakan untuk menampilkan jumlah data pada masing-masing kolom.\n",
        "\n",
        "Jika terdapat perbedaan jumlah data, itu menandakan terdapat \"*Missing Value*\""
      ],
      "metadata": {
        "id": "QA5eP73EbEdD"
      }
    },
    {
      "cell_type": "code",
      "source": [
        "dataset.nunique()"
      ],
      "metadata": {
        "colab": {
          "base_uri": "https://localhost:8080/"
        },
        "id": "iAJrbGiuf-8c",
        "outputId": "598061bf-3cf1-4337-f9e8-97a81c51b3b4"
      },
      "execution_count": null,
      "outputs": [
        {
          "output_type": "execute_result",
          "data": {
            "text/plain": [
              "Report Number                  481376\n",
              "Occurred Date                    4310\n",
              "Occurred Time                    1440\n",
              "Reported Date                    3989\n",
              "Reported Time                    1440\n",
              "Crime Subcategory                  30\n",
              "Primary Offense Description       144\n",
              "Precinct                            6\n",
              "Sector                             23\n",
              "Beat                               64\n",
              "Neighborhood                       59\n",
              "dtype: int64"
            ]
          },
          "metadata": {},
          "execution_count": 10
        }
      ]
    },
    {
      "cell_type": "markdown",
      "source": [
        "Coding Nunique diatas digunakan untuk menampilkan jumlah data nilai unik"
      ],
      "metadata": {
        "id": "OMfzj1Rrbay6"
      }
    },
    {
      "cell_type": "markdown",
      "source": [
        "**2.1 Handling Missing Value**"
      ],
      "metadata": {
        "id": "SsvcPPw9ekvS"
      }
    },
    {
      "cell_type": "markdown",
      "source": [
        "Let's assume unknown value as missing value since unknown means not known or no values"
      ],
      "metadata": {
        "id": "tkkOl04Ee_xV"
      }
    },
    {
      "cell_type": "code",
      "source": [
        "dataset.isnull().sum()"
      ],
      "metadata": {
        "colab": {
          "base_uri": "https://localhost:8080/"
        },
        "id": "rsrJsSO8fW7M",
        "outputId": "3a660764-9cda-4751-9092-763d8ac73ef0"
      },
      "execution_count": null,
      "outputs": [
        {
          "output_type": "execute_result",
          "data": {
            "text/plain": [
              "Report Number                     0\n",
              "Occurred Date                     2\n",
              "Occurred Time                     2\n",
              "Reported Date                     0\n",
              "Reported Time                     2\n",
              "Crime Subcategory               262\n",
              "Primary Offense Description       0\n",
              "Precinct                          6\n",
              "Sector                         3009\n",
              "Beat                           2962\n",
              "Neighborhood                      0\n",
              "dtype: int64"
            ]
          },
          "metadata": {},
          "execution_count": 9
        }
      ]
    },
    {
      "cell_type": "markdown",
      "source": [
        "Coding tersebut digunakan untuk mengetahui jenis kolom yang terdapat \"*Missing Value*\". Dari hasil diatas diketahui bahwa kolom yang terdapat 7 kolom yang terdapat \"*Missing Value*\", yaitu Occurrated Date, Occurrated Time, Reported Time, Crime Subcategory, Precinct, Sector, dan Beat."
      ],
      "metadata": {
        "id": "-Mf2-TW0bnB9"
      }
    },
    {
      "cell_type": "code",
      "source": [
        "dataset['Occurred Date'].dtypes"
      ],
      "metadata": {
        "colab": {
          "base_uri": "https://localhost:8080/"
        },
        "id": "hw2FxOlorXI8",
        "outputId": "60fffb8d-050c-4471-bc38-7a4da4e8019d"
      },
      "execution_count": null,
      "outputs": [
        {
          "output_type": "execute_result",
          "data": {
            "text/plain": [
              "dtype('O')"
            ]
          },
          "metadata": {},
          "execution_count": 11
        }
      ]
    },
    {
      "cell_type": "code",
      "source": [
        "dataset['Occurred Time'].dtypes"
      ],
      "metadata": {
        "colab": {
          "base_uri": "https://localhost:8080/"
        },
        "id": "1ZQ3-sq0rg0J",
        "outputId": "fb3849de-3beb-43fd-b830-c154da454eee"
      },
      "execution_count": null,
      "outputs": [
        {
          "output_type": "execute_result",
          "data": {
            "text/plain": [
              "dtype('float64')"
            ]
          },
          "metadata": {},
          "execution_count": 12
        }
      ]
    },
    {
      "cell_type": "code",
      "source": [
        "dataset['Reported Time'].dtypes"
      ],
      "metadata": {
        "colab": {
          "base_uri": "https://localhost:8080/"
        },
        "id": "q_X_-QpMNIoz",
        "outputId": "93a47235-cddd-4346-d49c-8dd177294ad7"
      },
      "execution_count": null,
      "outputs": [
        {
          "output_type": "execute_result",
          "data": {
            "text/plain": [
              "dtype('float64')"
            ]
          },
          "metadata": {},
          "execution_count": 13
        }
      ]
    },
    {
      "cell_type": "code",
      "source": [
        "dataset['Crime Subcategory'].dtypes"
      ],
      "metadata": {
        "colab": {
          "base_uri": "https://localhost:8080/"
        },
        "id": "dOKPIoujMjF0",
        "outputId": "bebd235d-72c6-4bda-9d16-0ad05f45064c"
      },
      "execution_count": null,
      "outputs": [
        {
          "output_type": "execute_result",
          "data": {
            "text/plain": [
              "dtype('O')"
            ]
          },
          "metadata": {},
          "execution_count": 14
        }
      ]
    },
    {
      "cell_type": "code",
      "source": [
        "dataset['Precinct'].dtypes"
      ],
      "metadata": {
        "colab": {
          "base_uri": "https://localhost:8080/"
        },
        "id": "dbC_nGG9Wcqw",
        "outputId": "d3a1c675-860b-4627-e2c7-29295236fa4f"
      },
      "execution_count": null,
      "outputs": [
        {
          "output_type": "execute_result",
          "data": {
            "text/plain": [
              "dtype('O')"
            ]
          },
          "metadata": {},
          "execution_count": 15
        }
      ]
    },
    {
      "cell_type": "code",
      "source": [
        "dataset['Sector'].dtypes"
      ],
      "metadata": {
        "colab": {
          "base_uri": "https://localhost:8080/"
        },
        "id": "dRQYPNxbMoRH",
        "outputId": "f714d4f9-128d-4982-9ca8-fb9f2ffda800"
      },
      "execution_count": null,
      "outputs": [
        {
          "output_type": "execute_result",
          "data": {
            "text/plain": [
              "dtype('O')"
            ]
          },
          "metadata": {},
          "execution_count": 16
        }
      ]
    },
    {
      "cell_type": "code",
      "source": [
        "dataset['Beat'].dtypes"
      ],
      "metadata": {
        "colab": {
          "base_uri": "https://localhost:8080/"
        },
        "id": "xOomMZUqM4IJ",
        "outputId": "48d7a6b4-8f16-4865-84d2-9fdce635f154"
      },
      "execution_count": null,
      "outputs": [
        {
          "output_type": "execute_result",
          "data": {
            "text/plain": [
              "dtype('O')"
            ]
          },
          "metadata": {},
          "execution_count": 17
        }
      ]
    },
    {
      "cell_type": "markdown",
      "source": [
        "Kolom yang memiliki \"Missing Value\" di cek type datanya. Diketahui bahwa kolom yang bertipe data object yaitu : Occurred Time, Crime Subcategory, Sector, Beat, dan Precinct. Sedangkan kolom yang bertipe data float64 yaitu : Occurred Time dan Reported Time."
      ],
      "metadata": {
        "id": "JmCIV8gMcodK"
      }
    },
    {
      "cell_type": "markdown",
      "source": [
        "Perform imputer to handle missing value in numerical data"
      ],
      "metadata": {
        "id": "v6QJEYLbpcpG"
      }
    },
    {
      "cell_type": "code",
      "source": [
        "from sklearn.impute import SimpleImputer\n",
        "imputer = SimpleImputer(missing_values= np.nan, strategy='mean')\n",
        "imputer"
      ],
      "metadata": {
        "colab": {
          "base_uri": "https://localhost:8080/",
          "height": 74
        },
        "id": "02J19YzBjpuO",
        "outputId": "25ed5171-863b-4564-a5cf-e91d3f8b7878"
      },
      "execution_count": null,
      "outputs": [
        {
          "output_type": "execute_result",
          "data": {
            "text/plain": [
              "SimpleImputer()"
            ],
            "text/html": [
              "<style>#sk-container-id-1 {color: black;background-color: white;}#sk-container-id-1 pre{padding: 0;}#sk-container-id-1 div.sk-toggleable {background-color: white;}#sk-container-id-1 label.sk-toggleable__label {cursor: pointer;display: block;width: 100%;margin-bottom: 0;padding: 0.3em;box-sizing: border-box;text-align: center;}#sk-container-id-1 label.sk-toggleable__label-arrow:before {content: \"▸\";float: left;margin-right: 0.25em;color: #696969;}#sk-container-id-1 label.sk-toggleable__label-arrow:hover:before {color: black;}#sk-container-id-1 div.sk-estimator:hover label.sk-toggleable__label-arrow:before {color: black;}#sk-container-id-1 div.sk-toggleable__content {max-height: 0;max-width: 0;overflow: hidden;text-align: left;background-color: #f0f8ff;}#sk-container-id-1 div.sk-toggleable__content pre {margin: 0.2em;color: black;border-radius: 0.25em;background-color: #f0f8ff;}#sk-container-id-1 input.sk-toggleable__control:checked~div.sk-toggleable__content {max-height: 200px;max-width: 100%;overflow: auto;}#sk-container-id-1 input.sk-toggleable__control:checked~label.sk-toggleable__label-arrow:before {content: \"▾\";}#sk-container-id-1 div.sk-estimator input.sk-toggleable__control:checked~label.sk-toggleable__label {background-color: #d4ebff;}#sk-container-id-1 div.sk-label input.sk-toggleable__control:checked~label.sk-toggleable__label {background-color: #d4ebff;}#sk-container-id-1 input.sk-hidden--visually {border: 0;clip: rect(1px 1px 1px 1px);clip: rect(1px, 1px, 1px, 1px);height: 1px;margin: -1px;overflow: hidden;padding: 0;position: absolute;width: 1px;}#sk-container-id-1 div.sk-estimator {font-family: monospace;background-color: #f0f8ff;border: 1px dotted black;border-radius: 0.25em;box-sizing: border-box;margin-bottom: 0.5em;}#sk-container-id-1 div.sk-estimator:hover {background-color: #d4ebff;}#sk-container-id-1 div.sk-parallel-item::after {content: \"\";width: 100%;border-bottom: 1px solid gray;flex-grow: 1;}#sk-container-id-1 div.sk-label:hover label.sk-toggleable__label {background-color: #d4ebff;}#sk-container-id-1 div.sk-serial::before {content: \"\";position: absolute;border-left: 1px solid gray;box-sizing: border-box;top: 0;bottom: 0;left: 50%;z-index: 0;}#sk-container-id-1 div.sk-serial {display: flex;flex-direction: column;align-items: center;background-color: white;padding-right: 0.2em;padding-left: 0.2em;position: relative;}#sk-container-id-1 div.sk-item {position: relative;z-index: 1;}#sk-container-id-1 div.sk-parallel {display: flex;align-items: stretch;justify-content: center;background-color: white;position: relative;}#sk-container-id-1 div.sk-item::before, #sk-container-id-1 div.sk-parallel-item::before {content: \"\";position: absolute;border-left: 1px solid gray;box-sizing: border-box;top: 0;bottom: 0;left: 50%;z-index: -1;}#sk-container-id-1 div.sk-parallel-item {display: flex;flex-direction: column;z-index: 1;position: relative;background-color: white;}#sk-container-id-1 div.sk-parallel-item:first-child::after {align-self: flex-end;width: 50%;}#sk-container-id-1 div.sk-parallel-item:last-child::after {align-self: flex-start;width: 50%;}#sk-container-id-1 div.sk-parallel-item:only-child::after {width: 0;}#sk-container-id-1 div.sk-dashed-wrapped {border: 1px dashed gray;margin: 0 0.4em 0.5em 0.4em;box-sizing: border-box;padding-bottom: 0.4em;background-color: white;}#sk-container-id-1 div.sk-label label {font-family: monospace;font-weight: bold;display: inline-block;line-height: 1.2em;}#sk-container-id-1 div.sk-label-container {text-align: center;}#sk-container-id-1 div.sk-container {/* jupyter's `normalize.less` sets `[hidden] { display: none; }` but bootstrap.min.css set `[hidden] { display: none !important; }` so we also need the `!important` here to be able to override the default hidden behavior on the sphinx rendered scikit-learn.org. See: https://github.com/scikit-learn/scikit-learn/issues/21755 */display: inline-block !important;position: relative;}#sk-container-id-1 div.sk-text-repr-fallback {display: none;}</style><div id=\"sk-container-id-1\" class=\"sk-top-container\"><div class=\"sk-text-repr-fallback\"><pre>SimpleImputer()</pre><b>In a Jupyter environment, please rerun this cell to show the HTML representation or trust the notebook. <br />On GitHub, the HTML representation is unable to render, please try loading this page with nbviewer.org.</b></div><div class=\"sk-container\" hidden><div class=\"sk-item\"><div class=\"sk-estimator sk-toggleable\"><input class=\"sk-toggleable__control sk-hidden--visually\" id=\"sk-estimator-id-1\" type=\"checkbox\" checked><label for=\"sk-estimator-id-1\" class=\"sk-toggleable__label sk-toggleable__label-arrow\">SimpleImputer</label><div class=\"sk-toggleable__content\"><pre>SimpleImputer()</pre></div></div></div></div></div>"
            ]
          },
          "metadata": {},
          "execution_count": 18
        }
      ]
    },
    {
      "cell_type": "markdown",
      "source": [
        "Simple Imputer digunakan untuk menggantikan \"Missing Values\" menggunakan statistika deskriptive, dan disini saya menggunakan mean."
      ],
      "metadata": {
        "id": "_4AH-r1ddi1h"
      }
    },
    {
      "cell_type": "code",
      "source": [
        "imputer = imputer.fit(dataset[['Occurred Time', 'Reported Time']])\n",
        "imputer"
      ],
      "metadata": {
        "colab": {
          "base_uri": "https://localhost:8080/",
          "height": 74
        },
        "id": "RatiEmtpsMxv",
        "outputId": "5889f789-cd0a-4cfc-c187-52c92d36b014"
      },
      "execution_count": null,
      "outputs": [
        {
          "output_type": "execute_result",
          "data": {
            "text/plain": [
              "SimpleImputer()"
            ],
            "text/html": [
              "<style>#sk-container-id-2 {color: black;background-color: white;}#sk-container-id-2 pre{padding: 0;}#sk-container-id-2 div.sk-toggleable {background-color: white;}#sk-container-id-2 label.sk-toggleable__label {cursor: pointer;display: block;width: 100%;margin-bottom: 0;padding: 0.3em;box-sizing: border-box;text-align: center;}#sk-container-id-2 label.sk-toggleable__label-arrow:before {content: \"▸\";float: left;margin-right: 0.25em;color: #696969;}#sk-container-id-2 label.sk-toggleable__label-arrow:hover:before {color: black;}#sk-container-id-2 div.sk-estimator:hover label.sk-toggleable__label-arrow:before {color: black;}#sk-container-id-2 div.sk-toggleable__content {max-height: 0;max-width: 0;overflow: hidden;text-align: left;background-color: #f0f8ff;}#sk-container-id-2 div.sk-toggleable__content pre {margin: 0.2em;color: black;border-radius: 0.25em;background-color: #f0f8ff;}#sk-container-id-2 input.sk-toggleable__control:checked~div.sk-toggleable__content {max-height: 200px;max-width: 100%;overflow: auto;}#sk-container-id-2 input.sk-toggleable__control:checked~label.sk-toggleable__label-arrow:before {content: \"▾\";}#sk-container-id-2 div.sk-estimator input.sk-toggleable__control:checked~label.sk-toggleable__label {background-color: #d4ebff;}#sk-container-id-2 div.sk-label input.sk-toggleable__control:checked~label.sk-toggleable__label {background-color: #d4ebff;}#sk-container-id-2 input.sk-hidden--visually {border: 0;clip: rect(1px 1px 1px 1px);clip: rect(1px, 1px, 1px, 1px);height: 1px;margin: -1px;overflow: hidden;padding: 0;position: absolute;width: 1px;}#sk-container-id-2 div.sk-estimator {font-family: monospace;background-color: #f0f8ff;border: 1px dotted black;border-radius: 0.25em;box-sizing: border-box;margin-bottom: 0.5em;}#sk-container-id-2 div.sk-estimator:hover {background-color: #d4ebff;}#sk-container-id-2 div.sk-parallel-item::after {content: \"\";width: 100%;border-bottom: 1px solid gray;flex-grow: 1;}#sk-container-id-2 div.sk-label:hover label.sk-toggleable__label {background-color: #d4ebff;}#sk-container-id-2 div.sk-serial::before {content: \"\";position: absolute;border-left: 1px solid gray;box-sizing: border-box;top: 0;bottom: 0;left: 50%;z-index: 0;}#sk-container-id-2 div.sk-serial {display: flex;flex-direction: column;align-items: center;background-color: white;padding-right: 0.2em;padding-left: 0.2em;position: relative;}#sk-container-id-2 div.sk-item {position: relative;z-index: 1;}#sk-container-id-2 div.sk-parallel {display: flex;align-items: stretch;justify-content: center;background-color: white;position: relative;}#sk-container-id-2 div.sk-item::before, #sk-container-id-2 div.sk-parallel-item::before {content: \"\";position: absolute;border-left: 1px solid gray;box-sizing: border-box;top: 0;bottom: 0;left: 50%;z-index: -1;}#sk-container-id-2 div.sk-parallel-item {display: flex;flex-direction: column;z-index: 1;position: relative;background-color: white;}#sk-container-id-2 div.sk-parallel-item:first-child::after {align-self: flex-end;width: 50%;}#sk-container-id-2 div.sk-parallel-item:last-child::after {align-self: flex-start;width: 50%;}#sk-container-id-2 div.sk-parallel-item:only-child::after {width: 0;}#sk-container-id-2 div.sk-dashed-wrapped {border: 1px dashed gray;margin: 0 0.4em 0.5em 0.4em;box-sizing: border-box;padding-bottom: 0.4em;background-color: white;}#sk-container-id-2 div.sk-label label {font-family: monospace;font-weight: bold;display: inline-block;line-height: 1.2em;}#sk-container-id-2 div.sk-label-container {text-align: center;}#sk-container-id-2 div.sk-container {/* jupyter's `normalize.less` sets `[hidden] { display: none; }` but bootstrap.min.css set `[hidden] { display: none !important; }` so we also need the `!important` here to be able to override the default hidden behavior on the sphinx rendered scikit-learn.org. See: https://github.com/scikit-learn/scikit-learn/issues/21755 */display: inline-block !important;position: relative;}#sk-container-id-2 div.sk-text-repr-fallback {display: none;}</style><div id=\"sk-container-id-2\" class=\"sk-top-container\"><div class=\"sk-text-repr-fallback\"><pre>SimpleImputer()</pre><b>In a Jupyter environment, please rerun this cell to show the HTML representation or trust the notebook. <br />On GitHub, the HTML representation is unable to render, please try loading this page with nbviewer.org.</b></div><div class=\"sk-container\" hidden><div class=\"sk-item\"><div class=\"sk-estimator sk-toggleable\"><input class=\"sk-toggleable__control sk-hidden--visually\" id=\"sk-estimator-id-2\" type=\"checkbox\" checked><label for=\"sk-estimator-id-2\" class=\"sk-toggleable__label sk-toggleable__label-arrow\">SimpleImputer</label><div class=\"sk-toggleable__content\"><pre>SimpleImputer()</pre></div></div></div></div></div>"
            ]
          },
          "metadata": {},
          "execution_count": 19
        }
      ]
    },
    {
      "cell_type": "markdown",
      "source": [
        "Kita gunakan Imputer berdasarkan kolom \"Missing Value\" yang termasuk data numerical, yaitu Occurred Time dan Reported Time. Data numerical dipilih supaya bisa diganti dengan data yang lain."
      ],
      "metadata": {
        "id": "KNlvTJred2Cq"
      }
    },
    {
      "cell_type": "code",
      "source": [
        "dataset[['Occurred Time', 'Reported Time']] = imputer.transform(dataset[['Occurred Time', 'Reported Time']])\n",
        "dataset.isnull().sum()"
      ],
      "metadata": {
        "colab": {
          "base_uri": "https://localhost:8080/"
        },
        "id": "VRRgnMy9s6t7",
        "outputId": "08d55266-fc61-44cf-b447-618514865f93"
      },
      "execution_count": null,
      "outputs": [
        {
          "output_type": "execute_result",
          "data": {
            "text/plain": [
              "Report Number                     0\n",
              "Occurred Date                     2\n",
              "Occurred Time                     0\n",
              "Reported Date                     0\n",
              "Reported Time                     0\n",
              "Crime Subcategory               262\n",
              "Primary Offense Description       0\n",
              "Precinct                          6\n",
              "Sector                         3009\n",
              "Beat                           2962\n",
              "Neighborhood                      0\n",
              "dtype: int64"
            ]
          },
          "metadata": {},
          "execution_count": 20
        }
      ]
    },
    {
      "cell_type": "markdown",
      "source": [
        "Using drop column tohandle missing value on categorical or object data"
      ],
      "metadata": {
        "id": "akm-xmRdphDb"
      }
    },
    {
      "cell_type": "markdown",
      "source": [
        "Setelah melakukan transform imputer, maka data-data numerical tadi sudah tidak terdapat \"Missing Value\" kecuali kolom Crime Subcategory, Precinct, Sector, dan Beat. Karena keempat kolom tersebut merupakan type data categorical."
      ],
      "metadata": {
        "id": "-3k1NxD8eLaz"
      }
    },
    {
      "cell_type": "code",
      "execution_count": null,
      "metadata": {
        "colab": {
          "base_uri": "https://localhost:8080/"
        },
        "id": "APXYNKqq0J3k",
        "outputId": "aa445a12-bccb-4150-b45e-f745ba2f4053"
      },
      "outputs": [
        {
          "output_type": "execute_result",
          "data": {
            "text/plain": [
              "Report Number                  0\n",
              "Occurred Time                  0\n",
              "Reported Date                  0\n",
              "Reported Time                  0\n",
              "Primary Offense Description    0\n",
              "Neighborhood                   0\n",
              "dtype: int64"
            ]
          },
          "metadata": {},
          "execution_count": 21
        }
      ],
      "source": [
        "dataset = dataset.dropna(axis=1)\n",
        "dataset.isnull().sum()"
      ]
    },
    {
      "cell_type": "markdown",
      "source": [
        "Drop column digunakan untuk menghilangkan \"Missing Values\" yang ada pada data bertipe categorical. Setelah di running, 4 kolom yang bertipe categorical tersebut telah dihilangkan."
      ],
      "metadata": {
        "id": "wGBYisNZetPj"
      }
    },
    {
      "cell_type": "code",
      "source": [
        "dataset = dataset.drop('Reported Time', axis=1)\n",
        "dataset"
      ],
      "metadata": {
        "colab": {
          "base_uri": "https://localhost:8080/",
          "height": 423
        },
        "id": "N6MCKclSXAv1",
        "outputId": "0e8f8471-9055-4817-e876-8bc710e1aa34"
      },
      "execution_count": null,
      "outputs": [
        {
          "output_type": "execute_result",
          "data": {
            "text/plain": [
              "         Report Number  Occurred Time Reported Date  \\\n",
              "0       20080000465209    2114.000000    12/13/2008   \n",
              "1       20100000202011       0.000000    06/15/2010   \n",
              "2        2012000023437       0.000000    01/25/2012   \n",
              "3       20130000327785       0.000000    09/09/2013   \n",
              "4       20160000289384       0.000000    08/11/2016   \n",
              "...                ...            ...           ...   \n",
              "481371  20180000905946       0.000000    07/01/2018   \n",
              "481372  20180000240319       0.000000    07/01/2018   \n",
              "481373  20180000905953       0.000000    07/01/2018   \n",
              "481374  20070000430946    1362.029547    01/01/2007   \n",
              "481375  19990000333737    1362.029547    01/01/1999   \n",
              "\n",
              "       Primary Offense Description              Neighborhood  \n",
              "0                       DUI-LIQUOR  CENTRAL AREA/SQUIRE PARK  \n",
              "1                      CHILD-OTHER                QUEEN ANNE  \n",
              "2                     SEXOFF-OTHER                 NORTHGATE  \n",
              "3                     SEXOFF-OTHER                   UNKNOWN  \n",
              "4                     SEXOFF-OTHER                   UNKNOWN  \n",
              "...                            ...                       ...  \n",
              "481371              THEFT-CARPROWL  CENTRAL AREA/SQUIRE PARK  \n",
              "481372              THEFT-CARPROWL  CENTRAL AREA/SQUIRE PARK  \n",
              "481373              THEFT-CARPROWL                 NORTHGATE  \n",
              "481374                  RAPE-OTHER                   UNKNOWN  \n",
              "481375              THEFT-SHOPLIFT                   UNKNOWN  \n",
              "\n",
              "[481376 rows x 5 columns]"
            ],
            "text/html": [
              "\n",
              "  <div id=\"df-639403e5-ce15-4cf2-9170-ac0f07138c8d\">\n",
              "    <div class=\"colab-df-container\">\n",
              "      <div>\n",
              "<style scoped>\n",
              "    .dataframe tbody tr th:only-of-type {\n",
              "        vertical-align: middle;\n",
              "    }\n",
              "\n",
              "    .dataframe tbody tr th {\n",
              "        vertical-align: top;\n",
              "    }\n",
              "\n",
              "    .dataframe thead th {\n",
              "        text-align: right;\n",
              "    }\n",
              "</style>\n",
              "<table border=\"1\" class=\"dataframe\">\n",
              "  <thead>\n",
              "    <tr style=\"text-align: right;\">\n",
              "      <th></th>\n",
              "      <th>Report Number</th>\n",
              "      <th>Occurred Time</th>\n",
              "      <th>Reported Date</th>\n",
              "      <th>Primary Offense Description</th>\n",
              "      <th>Neighborhood</th>\n",
              "    </tr>\n",
              "  </thead>\n",
              "  <tbody>\n",
              "    <tr>\n",
              "      <th>0</th>\n",
              "      <td>20080000465209</td>\n",
              "      <td>2114.000000</td>\n",
              "      <td>12/13/2008</td>\n",
              "      <td>DUI-LIQUOR</td>\n",
              "      <td>CENTRAL AREA/SQUIRE PARK</td>\n",
              "    </tr>\n",
              "    <tr>\n",
              "      <th>1</th>\n",
              "      <td>20100000202011</td>\n",
              "      <td>0.000000</td>\n",
              "      <td>06/15/2010</td>\n",
              "      <td>CHILD-OTHER</td>\n",
              "      <td>QUEEN ANNE</td>\n",
              "    </tr>\n",
              "    <tr>\n",
              "      <th>2</th>\n",
              "      <td>2012000023437</td>\n",
              "      <td>0.000000</td>\n",
              "      <td>01/25/2012</td>\n",
              "      <td>SEXOFF-OTHER</td>\n",
              "      <td>NORTHGATE</td>\n",
              "    </tr>\n",
              "    <tr>\n",
              "      <th>3</th>\n",
              "      <td>20130000327785</td>\n",
              "      <td>0.000000</td>\n",
              "      <td>09/09/2013</td>\n",
              "      <td>SEXOFF-OTHER</td>\n",
              "      <td>UNKNOWN</td>\n",
              "    </tr>\n",
              "    <tr>\n",
              "      <th>4</th>\n",
              "      <td>20160000289384</td>\n",
              "      <td>0.000000</td>\n",
              "      <td>08/11/2016</td>\n",
              "      <td>SEXOFF-OTHER</td>\n",
              "      <td>UNKNOWN</td>\n",
              "    </tr>\n",
              "    <tr>\n",
              "      <th>...</th>\n",
              "      <td>...</td>\n",
              "      <td>...</td>\n",
              "      <td>...</td>\n",
              "      <td>...</td>\n",
              "      <td>...</td>\n",
              "    </tr>\n",
              "    <tr>\n",
              "      <th>481371</th>\n",
              "      <td>20180000905946</td>\n",
              "      <td>0.000000</td>\n",
              "      <td>07/01/2018</td>\n",
              "      <td>THEFT-CARPROWL</td>\n",
              "      <td>CENTRAL AREA/SQUIRE PARK</td>\n",
              "    </tr>\n",
              "    <tr>\n",
              "      <th>481372</th>\n",
              "      <td>20180000240319</td>\n",
              "      <td>0.000000</td>\n",
              "      <td>07/01/2018</td>\n",
              "      <td>THEFT-CARPROWL</td>\n",
              "      <td>CENTRAL AREA/SQUIRE PARK</td>\n",
              "    </tr>\n",
              "    <tr>\n",
              "      <th>481373</th>\n",
              "      <td>20180000905953</td>\n",
              "      <td>0.000000</td>\n",
              "      <td>07/01/2018</td>\n",
              "      <td>THEFT-CARPROWL</td>\n",
              "      <td>NORTHGATE</td>\n",
              "    </tr>\n",
              "    <tr>\n",
              "      <th>481374</th>\n",
              "      <td>20070000430946</td>\n",
              "      <td>1362.029547</td>\n",
              "      <td>01/01/2007</td>\n",
              "      <td>RAPE-OTHER</td>\n",
              "      <td>UNKNOWN</td>\n",
              "    </tr>\n",
              "    <tr>\n",
              "      <th>481375</th>\n",
              "      <td>19990000333737</td>\n",
              "      <td>1362.029547</td>\n",
              "      <td>01/01/1999</td>\n",
              "      <td>THEFT-SHOPLIFT</td>\n",
              "      <td>UNKNOWN</td>\n",
              "    </tr>\n",
              "  </tbody>\n",
              "</table>\n",
              "<p>481376 rows × 5 columns</p>\n",
              "</div>\n",
              "      <button class=\"colab-df-convert\" onclick=\"convertToInteractive('df-639403e5-ce15-4cf2-9170-ac0f07138c8d')\"\n",
              "              title=\"Convert this dataframe to an interactive table.\"\n",
              "              style=\"display:none;\">\n",
              "        \n",
              "  <svg xmlns=\"http://www.w3.org/2000/svg\" height=\"24px\"viewBox=\"0 0 24 24\"\n",
              "       width=\"24px\">\n",
              "    <path d=\"M0 0h24v24H0V0z\" fill=\"none\"/>\n",
              "    <path d=\"M18.56 5.44l.94 2.06.94-2.06 2.06-.94-2.06-.94-.94-2.06-.94 2.06-2.06.94zm-11 1L8.5 8.5l.94-2.06 2.06-.94-2.06-.94L8.5 2.5l-.94 2.06-2.06.94zm10 10l.94 2.06.94-2.06 2.06-.94-2.06-.94-.94-2.06-.94 2.06-2.06.94z\"/><path d=\"M17.41 7.96l-1.37-1.37c-.4-.4-.92-.59-1.43-.59-.52 0-1.04.2-1.43.59L10.3 9.45l-7.72 7.72c-.78.78-.78 2.05 0 2.83L4 21.41c.39.39.9.59 1.41.59.51 0 1.02-.2 1.41-.59l7.78-7.78 2.81-2.81c.8-.78.8-2.07 0-2.86zM5.41 20L4 18.59l7.72-7.72 1.47 1.35L5.41 20z\"/>\n",
              "  </svg>\n",
              "      </button>\n",
              "      \n",
              "  <style>\n",
              "    .colab-df-container {\n",
              "      display:flex;\n",
              "      flex-wrap:wrap;\n",
              "      gap: 12px;\n",
              "    }\n",
              "\n",
              "    .colab-df-convert {\n",
              "      background-color: #E8F0FE;\n",
              "      border: none;\n",
              "      border-radius: 50%;\n",
              "      cursor: pointer;\n",
              "      display: none;\n",
              "      fill: #1967D2;\n",
              "      height: 32px;\n",
              "      padding: 0 0 0 0;\n",
              "      width: 32px;\n",
              "    }\n",
              "\n",
              "    .colab-df-convert:hover {\n",
              "      background-color: #E2EBFA;\n",
              "      box-shadow: 0px 1px 2px rgba(60, 64, 67, 0.3), 0px 1px 3px 1px rgba(60, 64, 67, 0.15);\n",
              "      fill: #174EA6;\n",
              "    }\n",
              "\n",
              "    [theme=dark] .colab-df-convert {\n",
              "      background-color: #3B4455;\n",
              "      fill: #D2E3FC;\n",
              "    }\n",
              "\n",
              "    [theme=dark] .colab-df-convert:hover {\n",
              "      background-color: #434B5C;\n",
              "      box-shadow: 0px 1px 3px 1px rgba(0, 0, 0, 0.15);\n",
              "      filter: drop-shadow(0px 1px 2px rgba(0, 0, 0, 0.3));\n",
              "      fill: #FFFFFF;\n",
              "    }\n",
              "  </style>\n",
              "\n",
              "      <script>\n",
              "        const buttonEl =\n",
              "          document.querySelector('#df-639403e5-ce15-4cf2-9170-ac0f07138c8d button.colab-df-convert');\n",
              "        buttonEl.style.display =\n",
              "          google.colab.kernel.accessAllowed ? 'block' : 'none';\n",
              "\n",
              "        async function convertToInteractive(key) {\n",
              "          const element = document.querySelector('#df-639403e5-ce15-4cf2-9170-ac0f07138c8d');\n",
              "          const dataTable =\n",
              "            await google.colab.kernel.invokeFunction('convertToInteractive',\n",
              "                                                     [key], {});\n",
              "          if (!dataTable) return;\n",
              "\n",
              "          const docLinkHtml = 'Like what you see? Visit the ' +\n",
              "            '<a target=\"_blank\" href=https://colab.research.google.com/notebooks/data_table.ipynb>data table notebook</a>'\n",
              "            + ' to learn more about interactive tables.';\n",
              "          element.innerHTML = '';\n",
              "          dataTable['output_type'] = 'display_data';\n",
              "          await google.colab.output.renderOutput(dataTable, element);\n",
              "          const docLink = document.createElement('div');\n",
              "          docLink.innerHTML = docLinkHtml;\n",
              "          element.appendChild(docLink);\n",
              "        }\n",
              "      </script>\n",
              "    </div>\n",
              "  </div>\n",
              "  "
            ]
          },
          "metadata": {},
          "execution_count": 22
        }
      ]
    },
    {
      "cell_type": "markdown",
      "source": [
        "Coding syntax diatas digunakan untuk mengetahui jumlah baris dan kolom terbaru setelah dilakukan perbaikan."
      ],
      "metadata": {
        "id": "0KlswE4IZ3lr"
      }
    },
    {
      "cell_type": "markdown",
      "source": [
        "## 3. Data Visualization"
      ],
      "metadata": {
        "id": "ENPm1cm20MRH"
      }
    },
    {
      "cell_type": "markdown",
      "source": [
        "**Eploratory Data Analysis (EDA)**"
      ],
      "metadata": {
        "id": "Kmt5tnjKb_Th"
      }
    },
    {
      "cell_type": "markdown",
      "source": [
        "we will not use exploratory data analysis like in the previous class, we'll take another apporach to visualize data"
      ],
      "metadata": {
        "id": "_sXK6PePvNOv"
      }
    },
    {
      "cell_type": "markdown",
      "source": [
        "**3.1 Check Outliers**\n",
        "\n",
        "Outliers are values at the extreme ends of a dataset.\n",
        "\n",
        "Some outliers represent true values from natural variation in the population. Other outliers may result from incorrect data entry, equipment malfunctions, or other measurement errors.\n",
        "\n",
        "An outlier isn’t always a form of dirty or incorrect data, so you have to be careful with them in data cleansing. What you should do with an outlier depends on its most likely cause.\n",
        "\n",
        "for more info: https://www.scribbr.com/statistics/outliers/"
      ],
      "metadata": {
        "id": "FZB03O6btxDd"
      }
    },
    {
      "cell_type": "code",
      "execution_count": null,
      "metadata": {
        "colab": {
          "base_uri": "https://localhost:8080/",
          "height": 300
        },
        "id": "0V45x0tn28_2",
        "outputId": "fae88e33-28c6-4904-e6c7-f3b008470e35"
      },
      "outputs": [
        {
          "output_type": "execute_result",
          "data": {
            "text/plain": [
              "       Report Number  Occurred Time\n",
              "count   4.813760e+05  481376.000000\n",
              "mean    1.632547e+13    1362.029547\n",
              "std     8.611175e+12     687.879745\n",
              "min     2.008000e+08       0.000000\n",
              "25%     2.008000e+13     900.000000\n",
              "50%     2.012000e+13    1500.000000\n",
              "75%     2.015000e+13    1923.000000\n",
              "max     2.011000e+15    2359.000000"
            ],
            "text/html": [
              "\n",
              "  <div id=\"df-87026fb7-9b16-439c-874f-e7acb7b56e41\">\n",
              "    <div class=\"colab-df-container\">\n",
              "      <div>\n",
              "<style scoped>\n",
              "    .dataframe tbody tr th:only-of-type {\n",
              "        vertical-align: middle;\n",
              "    }\n",
              "\n",
              "    .dataframe tbody tr th {\n",
              "        vertical-align: top;\n",
              "    }\n",
              "\n",
              "    .dataframe thead th {\n",
              "        text-align: right;\n",
              "    }\n",
              "</style>\n",
              "<table border=\"1\" class=\"dataframe\">\n",
              "  <thead>\n",
              "    <tr style=\"text-align: right;\">\n",
              "      <th></th>\n",
              "      <th>Report Number</th>\n",
              "      <th>Occurred Time</th>\n",
              "    </tr>\n",
              "  </thead>\n",
              "  <tbody>\n",
              "    <tr>\n",
              "      <th>count</th>\n",
              "      <td>4.813760e+05</td>\n",
              "      <td>481376.000000</td>\n",
              "    </tr>\n",
              "    <tr>\n",
              "      <th>mean</th>\n",
              "      <td>1.632547e+13</td>\n",
              "      <td>1362.029547</td>\n",
              "    </tr>\n",
              "    <tr>\n",
              "      <th>std</th>\n",
              "      <td>8.611175e+12</td>\n",
              "      <td>687.879745</td>\n",
              "    </tr>\n",
              "    <tr>\n",
              "      <th>min</th>\n",
              "      <td>2.008000e+08</td>\n",
              "      <td>0.000000</td>\n",
              "    </tr>\n",
              "    <tr>\n",
              "      <th>25%</th>\n",
              "      <td>2.008000e+13</td>\n",
              "      <td>900.000000</td>\n",
              "    </tr>\n",
              "    <tr>\n",
              "      <th>50%</th>\n",
              "      <td>2.012000e+13</td>\n",
              "      <td>1500.000000</td>\n",
              "    </tr>\n",
              "    <tr>\n",
              "      <th>75%</th>\n",
              "      <td>2.015000e+13</td>\n",
              "      <td>1923.000000</td>\n",
              "    </tr>\n",
              "    <tr>\n",
              "      <th>max</th>\n",
              "      <td>2.011000e+15</td>\n",
              "      <td>2359.000000</td>\n",
              "    </tr>\n",
              "  </tbody>\n",
              "</table>\n",
              "</div>\n",
              "      <button class=\"colab-df-convert\" onclick=\"convertToInteractive('df-87026fb7-9b16-439c-874f-e7acb7b56e41')\"\n",
              "              title=\"Convert this dataframe to an interactive table.\"\n",
              "              style=\"display:none;\">\n",
              "        \n",
              "  <svg xmlns=\"http://www.w3.org/2000/svg\" height=\"24px\"viewBox=\"0 0 24 24\"\n",
              "       width=\"24px\">\n",
              "    <path d=\"M0 0h24v24H0V0z\" fill=\"none\"/>\n",
              "    <path d=\"M18.56 5.44l.94 2.06.94-2.06 2.06-.94-2.06-.94-.94-2.06-.94 2.06-2.06.94zm-11 1L8.5 8.5l.94-2.06 2.06-.94-2.06-.94L8.5 2.5l-.94 2.06-2.06.94zm10 10l.94 2.06.94-2.06 2.06-.94-2.06-.94-.94-2.06-.94 2.06-2.06.94z\"/><path d=\"M17.41 7.96l-1.37-1.37c-.4-.4-.92-.59-1.43-.59-.52 0-1.04.2-1.43.59L10.3 9.45l-7.72 7.72c-.78.78-.78 2.05 0 2.83L4 21.41c.39.39.9.59 1.41.59.51 0 1.02-.2 1.41-.59l7.78-7.78 2.81-2.81c.8-.78.8-2.07 0-2.86zM5.41 20L4 18.59l7.72-7.72 1.47 1.35L5.41 20z\"/>\n",
              "  </svg>\n",
              "      </button>\n",
              "      \n",
              "  <style>\n",
              "    .colab-df-container {\n",
              "      display:flex;\n",
              "      flex-wrap:wrap;\n",
              "      gap: 12px;\n",
              "    }\n",
              "\n",
              "    .colab-df-convert {\n",
              "      background-color: #E8F0FE;\n",
              "      border: none;\n",
              "      border-radius: 50%;\n",
              "      cursor: pointer;\n",
              "      display: none;\n",
              "      fill: #1967D2;\n",
              "      height: 32px;\n",
              "      padding: 0 0 0 0;\n",
              "      width: 32px;\n",
              "    }\n",
              "\n",
              "    .colab-df-convert:hover {\n",
              "      background-color: #E2EBFA;\n",
              "      box-shadow: 0px 1px 2px rgba(60, 64, 67, 0.3), 0px 1px 3px 1px rgba(60, 64, 67, 0.15);\n",
              "      fill: #174EA6;\n",
              "    }\n",
              "\n",
              "    [theme=dark] .colab-df-convert {\n",
              "      background-color: #3B4455;\n",
              "      fill: #D2E3FC;\n",
              "    }\n",
              "\n",
              "    [theme=dark] .colab-df-convert:hover {\n",
              "      background-color: #434B5C;\n",
              "      box-shadow: 0px 1px 3px 1px rgba(0, 0, 0, 0.15);\n",
              "      filter: drop-shadow(0px 1px 2px rgba(0, 0, 0, 0.3));\n",
              "      fill: #FFFFFF;\n",
              "    }\n",
              "  </style>\n",
              "\n",
              "      <script>\n",
              "        const buttonEl =\n",
              "          document.querySelector('#df-87026fb7-9b16-439c-874f-e7acb7b56e41 button.colab-df-convert');\n",
              "        buttonEl.style.display =\n",
              "          google.colab.kernel.accessAllowed ? 'block' : 'none';\n",
              "\n",
              "        async function convertToInteractive(key) {\n",
              "          const element = document.querySelector('#df-87026fb7-9b16-439c-874f-e7acb7b56e41');\n",
              "          const dataTable =\n",
              "            await google.colab.kernel.invokeFunction('convertToInteractive',\n",
              "                                                     [key], {});\n",
              "          if (!dataTable) return;\n",
              "\n",
              "          const docLinkHtml = 'Like what you see? Visit the ' +\n",
              "            '<a target=\"_blank\" href=https://colab.research.google.com/notebooks/data_table.ipynb>data table notebook</a>'\n",
              "            + ' to learn more about interactive tables.';\n",
              "          element.innerHTML = '';\n",
              "          dataTable['output_type'] = 'display_data';\n",
              "          await google.colab.output.renderOutput(dataTable, element);\n",
              "          const docLink = document.createElement('div');\n",
              "          docLink.innerHTML = docLinkHtml;\n",
              "          element.appendChild(docLink);\n",
              "        }\n",
              "      </script>\n",
              "    </div>\n",
              "  </div>\n",
              "  "
            ]
          },
          "metadata": {},
          "execution_count": 23
        }
      ],
      "source": [
        "dataset.describe()"
      ]
    },
    {
      "cell_type": "markdown",
      "source": [
        "Coding diatas digunakan untuk mendeksripsikan masing-masing kolom dataset berdasarkan mean, standar deviasi, minimum dan maximum."
      ],
      "metadata": {
        "id": "Vh6XluvmfHMy"
      }
    },
    {
      "cell_type": "code",
      "source": [
        "import matplotlib.pyplot as plt\n",
        "%matplotlib inline\n",
        "dataset.plot()"
      ],
      "metadata": {
        "colab": {
          "base_uri": "https://localhost:8080/",
          "height": 462
        },
        "id": "hVyPVG8wv4Rd",
        "outputId": "deb7f4f3-8040-42c4-9088-bd4ef2bb9c1b"
      },
      "execution_count": null,
      "outputs": [
        {
          "output_type": "execute_result",
          "data": {
            "text/plain": [
              "<Axes: >"
            ]
          },
          "metadata": {},
          "execution_count": 24
        },
        {
          "output_type": "display_data",
          "data": {
            "text/plain": [
              "<Figure size 640x480 with 1 Axes>"
            ],
            "image/png": "[encoded data removed]"
          },
          "metadata": {}
        }
      ]
    },
    {
      "cell_type": "markdown",
      "source": [
        "Coding dibawah digunakan untuk menghitung library baru yang digunakan untuk menggambarkan data dalam sebuah plot ataupun grafik.\n",
        "Dari grafik diatas, terdapat kemungkinan \"Outlier\" pada kolom Report Number karena pada grafik diatas memiliki garis paling tinggi. Dan kolom yang lain akan di observasi lebih lanjut."
      ],
      "metadata": {
        "id": "vN_9fz9UfS5p"
      }
    },
    {
      "cell_type": "code",
      "source": [
        "import seaborn as sns\n",
        "%matplotlib inline\n",
        "\n",
        "sns.set(rc={'figure.figsize':(11,8)}, font_scale=1.5, style='whitegrid')\n",
        "\n",
        "# tips = sns.load_dataset(dataset)\n",
        "sns.boxplot(data=dataset, orient=\"h\");"
      ],
      "metadata": {
        "colab": {
          "base_uri": "https://localhost:8080/",
          "height": 716
        },
        "id": "Sg0KQswrw-aG",
        "outputId": "44c3dd64-8b2e-48b1-90c6-dd3c6e1c57b4"
      },
      "execution_count": null,
      "outputs": [
        {
          "output_type": "display_data",
          "data": {
            "text/plain": [
              "<Figure size 1100x800 with 1 Axes>"
            ],
            "image/png": "[encoded data removed]"
          },
          "metadata": {}
        }
      ]
    },
    {
      "cell_type": "markdown",
      "source": [
        "Dari boxplot diatas ternyata dapat dipastikan bahwa kolom Report Number terdapat \"Outlier\" sehingga kita perlu membersihkan \"Outlier\"nya."
      ],
      "metadata": {
        "id": "longkBtKfwp-"
      }
    },
    {
      "cell_type": "code",
      "source": [
        "# Scatter plot\n",
        "fig, ax = plt.subplots(figsize = (15,7))\n",
        "ax.scatter(dataset['Report Number'], dataset['Occurred Time'])\n",
        " \n",
        "# x-axis label\n",
        "ax.set_xlabel('Occurred Time')\n",
        " \n",
        "# y-axis label\n",
        "ax.set_ylabel('Report Number')\n",
        "plt.show()"
      ],
      "metadata": {
        "colab": {
          "base_uri": "https://localhost:8080/",
          "height": 641
        },
        "id": "QF-Yo7Mc1BJH",
        "outputId": "d0f7e879-5af8-4da6-f3fe-f6320aa31323"
      },
      "execution_count": null,
      "outputs": [
        {
          "output_type": "display_data",
          "data": {
            "text/plain": [
              "<Figure size 1500x700 with 1 Axes>"
            ],
            "image/png": "[encoded data removed]"
          },
          "metadata": {}
        }
      ]
    },
    {
      "cell_type": "markdown",
      "source": [
        "Setelah itu kita cari scatter plotnya menggunakan coding diatas. Dari gambar diatas dapat diketahui bahwa Report Number terdapat \"Outlier\" karena terdapat titik yang jauh dari pusat."
      ],
      "metadata": {
        "id": "TIrJP9TrgFqV"
      }
    },
    {
      "cell_type": "markdown",
      "source": [
        "**Removing the outliers using IQR**\n",
        "\n",
        "**IQR (Inter Quartile Range)**\n",
        "\n",
        "IQR = Quartile3 – Quartile1\n",
        "\n",
        "Quartile description: https://rumusbilangan.com/rumus-kuartil/\n"
      ],
      "metadata": {
        "id": "QNqE47dr2hr4"
      }
    },
    {
      "cell_type": "markdown",
      "source": [
        "IQR is interpolation method to remove outliers\n",
        "\n",
        "To define the outlier base value is defined above and below datasets normal range namely Upper and Lower bounds, define the upper and the lower bound (1.5*IQR value is considered) :\n",
        "\n",
        "upper = Q3 +1.5*IQR\n",
        "\n",
        "lower = Q1 – 1.5*IQR\n",
        "\n",
        "how to calculate IQR:\n",
        "\n",
        "https://www.timesmojo.com/what-is-the-15-iqr-rule/\n",
        "\n",
        "https://www.geeksforgeeks.org/detect-and-remove-the-outliers-using-python/\n",
        "\n",
        "In the above formula as according to statistics, the 0.5 scale-up of IQR (new_IQR = IQR + 0.5*IQR) is taken, to consider all the data between 2.7 standard deviations in the Gaussian Distribution."
      ],
      "metadata": {
        "id": "5m0lhYyq3Xn7"
      }
    },
    {
      "cell_type": "code",
      "source": [
        "import sklearn\n",
        "\n",
        "# IQR Price\n",
        "Q1 = np.percentile(dataset['Report Number'], 25,\n",
        "                   method = 'midpoint')\n",
        " \n",
        "Q3 = np.percentile(dataset['Report Number'], 75,\n",
        "                   method = 'midpoint')\n",
        "IQR = Q3 - Q1\n",
        " \n",
        "print(\"Old Shape: \", dataset.shape)"
      ],
      "metadata": {
        "colab": {
          "base_uri": "https://localhost:8080/"
        },
        "id": "jL9XfyUY6L58",
        "outputId": "4d07578d-b914-4075-ddd7-0ac39908a974"
      },
      "execution_count": null,
      "outputs": [
        {
          "output_type": "stream",
          "name": "stdout",
          "text": [
            "Old Shape:  (481376, 5)\n"
          ]
        }
      ]
    },
    {
      "cell_type": "markdown",
      "source": [
        "Dari coding diatas kita membuat variabel Q1 dan Q3 yang berisi rumus perhitungan Quartil dari metode IQR.\n",
        "\n",
        "Q1 memakai rumus Quartil 1 25%.\n",
        "\n",
        "Q3 memakai rumus Quartil 3 75%."
      ],
      "metadata": {
        "id": "vWVAHrjmgqGZ"
      }
    },
    {
      "cell_type": "code",
      "source": [
        "# Upper bound\n",
        "upper = Q3 + 1.5 * IQR\n",
        "\n",
        "# Lower bound\n",
        "lower = Q1 - 1.5 * IQR\n",
        "\n",
        "# Finding the indices of the outliers\n",
        "outliers_upper = dataset[dataset['Report Number'] > upper].index\n",
        "outliers_lower = dataset[dataset['Report Number'] < lower].index\n",
        "\n",
        "# Concatenate the indices of the outliers\n",
        "outliers = outliers_upper.append(outliers_lower)\n",
        "\n",
        "# Removing the outliers\n",
        "dataset.drop(outliers, inplace=True)\n",
        "\n",
        "print(\"New Shape: \", dataset.shape)\n"
      ],
      "metadata": {
        "colab": {
          "base_uri": "https://localhost:8080/"
        },
        "id": "WIZyhdHL6orp",
        "outputId": "d14a5867-371f-444c-80d8-8d8cf542c597"
      },
      "execution_count": null,
      "outputs": [
        {
          "output_type": "stream",
          "name": "stdout",
          "text": [
            "New Shape:  (380799, 5)\n"
          ]
        }
      ]
    },
    {
      "cell_type": "markdown",
      "source": [
        "Coding diatas digunakan untuk menghapus outlier pada kolom report number, setelah dibersihkan outlier nya didapatkan jumlah baris baru sebanyak 380799 dari yang sebelumnya 481376 baris."
      ],
      "metadata": {
        "id": "zTLvFdMFhpSq"
      }
    },
    {
      "cell_type": "code",
      "source": [
        "import sklearn\n",
        "\n",
        "# IQR Landsize\n",
        "Q1 = np.percentile(dataset['Occurred Time'], 25,\n",
        "                   method = 'midpoint')\n",
        " \n",
        "Q3 = np.percentile(dataset['Occurred Time'], 75,\n",
        "                   method = 'midpoint')\n",
        "IQR = Q3 - Q1\n",
        " \n",
        "print(\"Old Shape: \", dataset.shape)"
      ],
      "metadata": {
        "colab": {
          "base_uri": "https://localhost:8080/"
        },
        "id": "NV-D28kj63xj",
        "outputId": "86e37772-1370-4b1f-d84e-8d44d6417434"
      },
      "execution_count": null,
      "outputs": [
        {
          "output_type": "stream",
          "name": "stdout",
          "text": [
            "Old Shape:  (380799, 5)\n"
          ]
        }
      ]
    },
    {
      "cell_type": "code",
      "source": [
        "# Upper bound\n",
        "upper = Q3 + 1.5 * IQR\n",
        "\n",
        "# Lower bound\n",
        "lower = Q1 - 1.5 * IQR\n",
        "\n",
        "# Finding the indices of the outliers\n",
        "outliers_upper = dataset[dataset['Occurred Time'] > upper].index\n",
        "outliers_lower = dataset[dataset['Occurred Time'] < lower].index\n",
        "\n",
        "# Concatenate the indices of the outliers\n",
        "outliers = outliers_upper.append(outliers_lower)\n",
        "\n",
        "# Removing the outliers\n",
        "dataset.drop(outliers, inplace=True)\n",
        "\n",
        "print(\"New Shape: \", dataset.shape)\n"
      ],
      "metadata": {
        "colab": {
          "base_uri": "https://localhost:8080/"
        },
        "id": "raHbRnEQ66Ai",
        "outputId": "1eee783b-4784-431a-9a11-4aac4210d156"
      },
      "execution_count": null,
      "outputs": [
        {
          "output_type": "stream",
          "name": "stdout",
          "text": [
            "New Shape:  (380799, 5)\n"
          ]
        }
      ]
    },
    {
      "cell_type": "markdown",
      "source": [
        "Coding diatas juga digunakan untuk menghapus outlier, namun dikarenakan tidak terdapat outlier pada kolom occured time maka tidak ada pembersihan baris yang dilakukan."
      ],
      "metadata": {
        "id": "RR_cJLZViAx9"
      }
    },
    {
      "cell_type": "code",
      "execution_count": null,
      "metadata": {
        "colab": {
          "base_uri": "https://localhost:8080/",
          "height": 716
        },
        "id": "vR-0FpAR4wNE",
        "outputId": "458940a6-1100-4dc2-fc61-37e7604cbb8c"
      },
      "outputs": [
        {
          "output_type": "display_data",
          "data": {
            "text/plain": [
              "<Figure size 1100x800 with 1 Axes>"
            ],
            "image/png": "[encoded data removed]"
          },
          "metadata": {}
        }
      ],
      "source": [
        "import seaborn as sns\n",
        "%matplotlib inline\n",
        "\n",
        "sns.set(rc={'figure.figsize':(11,8)}, font_scale=1.5, style='whitegrid')\n",
        "\n",
        "# tips = sns.load_dataset(dataset)\n",
        "sns.boxplot(data=dataset, orient=\"h\");"
      ]
    },
    {
      "cell_type": "markdown",
      "source": [
        "Coding diatas digunakan untuk mengecek kembali apakah masih terdapat outlier pada dataset. Dan setelah dilakukan pengecekan kembali tidak terdapat outlier lagi."
      ],
      "metadata": {
        "id": "jiF-VdR0iXXq"
      }
    },
    {
      "cell_type": "code",
      "source": [
        "# Scatter plot\n",
        "fig, ax = plt.subplots(figsize = (15,7))\n",
        "ax.scatter(dataset['Report Number'], dataset['Occurred Time'])\n",
        " \n",
        "# x-axis label\n",
        "ax.set_xlabel('Occurred Time')\n",
        " \n",
        "# y-axis label\n",
        "ax.set_ylabel('Report Number')\n",
        "plt.show()"
      ],
      "metadata": {
        "colab": {
          "base_uri": "https://localhost:8080/",
          "height": 641
        },
        "id": "kp3nBBsZ8qQm",
        "outputId": "b713cfaf-7959-412a-a6cf-8508eccdcd44"
      },
      "execution_count": null,
      "outputs": [
        {
          "output_type": "display_data",
          "data": {
            "text/plain": [
              "<Figure size 1500x700 with 1 Axes>"
            ],
            "image/png": "[encoded data removed]"
          },
          "metadata": {}
        }
      ]
    },
    {
      "cell_type": "markdown",
      "source": [
        "Coding diatas digunakan untuk menggambarkan dataset menjadi x dan y"
      ],
      "metadata": {
        "id": "w5qVFeRmixeI"
      }
    },
    {
      "cell_type": "markdown",
      "source": [
        "Show data distribution based on density (kde - kernel density estimation)"
      ],
      "metadata": {
        "id": "LsjkfEScBUoN"
      }
    },
    {
      "cell_type": "code",
      "execution_count": null,
      "metadata": {
        "colab": {
          "base_uri": "https://localhost:8080/",
          "height": 200
        },
        "id": "aiF0oNG7_bPz",
        "outputId": "5cda8793-90b0-48b1-af0e-ba76ad99c952"
      },
      "outputs": [
        {
          "output_type": "display_data",
          "data": {
            "text/plain": [
              "<Figure size 1500x1200 with 20 Axes>"
            ],
            "image/png": "[encoded data removed]"
          },
          "metadata": {}
        }
      ],
      "source": [
        "dataset.plot(kind='kde',subplots=True,layout=(10,2),figsize=(15,12), sharex=False)\n",
        "plt.show()"
      ]
    },
    {
      "cell_type": "markdown",
      "source": [
        "Grafik diatas menggambarkan bahwa data pada report number memiliki data dengan nilai yang naik turun, pada occurred time memiliki nilai kerapatan paling kecil sekitar 0,0005 dengan variansi tidak terlalu berbeda."
      ],
      "metadata": {
        "id": "2oOamgAIbuGn"
      }
    },
    {
      "cell_type": "markdown",
      "source": [
        "Show data distribution based on histogram"
      ],
      "metadata": {
        "id": "wLLPYJxoBkJj"
      }
    },
    {
      "cell_type": "code",
      "source": [
        "dataset.plot(kind='hist',subplots=True,layout=(10,2),figsize=(15,12), sharex=False)\n",
        "plt.show()"
      ],
      "metadata": {
        "colab": {
          "base_uri": "https://localhost:8080/",
          "height": 178
        },
        "id": "oGUJFv6oj_Ub",
        "outputId": "ced2d61a-dc74-43a5-e46f-8e245a7ce31e"
      },
      "execution_count": null,
      "outputs": [
        {
          "output_type": "display_data",
          "data": {
            "text/plain": [
              "<Figure size 1500x1200 with 20 Axes>"
            ],
            "image/png": "[encoded data removed]"
          },
          "metadata": {}
        }
      ]
    },
    {
      "cell_type": "markdown",
      "source": [
        "Codingan diatas merupakan perintah untuk membuat histogram dari data set dengan menggunakan library matplotlib pada bahasa pemrograman Python.\n",
        "\n",
        "*   kind='hist': jenis plot yang akan digunakan adalah histogram.\n",
        "*   subplots=True: membuat beberapa subplot (grafik) dalam satu gambar.\n",
        "*   layout=(10,2): menentukan layout dari subplot dalam bentuk 10 baris dan 2 kolom.\n",
        "*   figsize=(15,12): menentukan ukuran gambar yang akan dihasilkan dengan lebar 15 inci dan tinggi 12 inci.\n",
        "*   sharex=False: memberikan sumbu x yang berbeda pada setiap subplot."
      ],
      "metadata": {
        "id": "a8fLI-2mdiEH"
      }
    },
    {
      "cell_type": "code",
      "source": [
        "dataset.plot(kind='line',subplots=True,layout=(10,2),figsize=(15,12), sharex=False)\n",
        "plt.show()"
      ],
      "metadata": {
        "colab": {
          "base_uri": "https://localhost:8080/",
          "height": 173
        },
        "id": "MGk91iI0kZ_3",
        "outputId": "749825fb-5d66-434e-c209-9a73957f2156"
      },
      "execution_count": null,
      "outputs": [
        {
          "output_type": "display_data",
          "data": {
            "text/plain": [
              "<Figure size 1500x1200 with 20 Axes>"
            ],
            "image/png": "[encoded data removed]"
          },
          "metadata": {}
        }
      ]
    },
    {
      "cell_type": "markdown",
      "source": [
        "Codingan diatas juga sama digunakan untuk membuat histogram dari dataset."
      ],
      "metadata": {
        "id": "gA3gAdH7ewbK"
      }
    },
    {
      "cell_type": "markdown",
      "source": [
        "**3.2 CORRELATION MATRIX**"
      ],
      "metadata": {
        "id": "Rdb2Vu6ER6bG"
      }
    },
    {
      "cell_type": "code",
      "execution_count": null,
      "metadata": {
        "colab": {
          "base_uri": "https://localhost:8080/",
          "height": 1000
        },
        "id": "JJfeTBE8AoEU",
        "outputId": "9a425245-1571-4c2e-ac81-e12da00c0064"
      },
      "outputs": [
        {
          "output_type": "display_data",
          "data": {
            "text/plain": [
              "<Figure size 1200x1200 with 4 Axes>"
            ],
            "image/png": "[encoded data removed]"
          },
          "metadata": {}
        }
      ],
      "source": [
        "pd.plotting.scatter_matrix(dataset,figsize=(12,12))\n",
        "plt.show()"
      ]
    },
    {
      "cell_type": "markdown",
      "source": [
        "Codingan tersebut merupakan perintah untuk membuat matriks plot scatter dari data set dengan menggunakan library pandas dan matplotlib pada bahasa pemrograman Python. \n",
        "\n",
        "Matriks plot scatter ini akan menunjukkan korelasi antara setiap pasang variabel dalam data set. Masing-masing plot scatter akan menunjukkan hubungan antara dua variabel dengan sumbu x dan y masing-masing, dan matriks plot scatter akan menunjukkan hubungan antara setiap pasang variabel dalam bentuk matriks persegi"
      ],
      "metadata": {
        "id": "bevarSVtfEOp"
      }
    },
    {
      "cell_type": "markdown",
      "source": [
        "correlation matrix with heatmap"
      ],
      "metadata": {
        "id": "3GkOv0zVElyF"
      }
    },
    {
      "cell_type": "code",
      "execution_count": null,
      "metadata": {
        "colab": {
          "base_uri": "https://localhost:8080/",
          "height": 736
        },
        "id": "QOpTY-zcm2al",
        "outputId": "761ada99-83bf-41a7-f985-dc26258ec16b"
      },
      "outputs": [
        {
          "output_type": "stream",
          "name": "stderr",
          "text": [
            "<ipython-input-37-4b443a21f68f>:2: FutureWarning: The default value of numeric_only in DataFrame.corr is deprecated. In a future version, it will default to False. Select only valid columns or specify the value of numeric_only to silence this warning.\n",
            "  corr = corr_data.corr()\n"
          ]
        },
        {
          "output_type": "display_data",
          "data": {
            "text/plain": [
              "<Figure size 1500x700 with 2 Axes>"
            ],
            "image/png": "[encoded data removed]"
          },
          "metadata": {}
        }
      ],
      "source": [
        "corr_data = dataset\n",
        "corr = corr_data.corr()\n",
        "\n",
        "cor_plot = sns.heatmap(corr,annot=True,cmap='RdYlGn',linewidths=0.2,annot_kws={'size':10})\n",
        "fig=plt.gcf()\n",
        "fig.set_size_inches(15,7)\n",
        "plt.xticks(fontsize=10,rotation=-30)\n",
        "plt.yticks(fontsize=10)\n",
        "plt.title('Correlation Matrix')\n",
        "plt.show()"
      ]
    },
    {
      "cell_type": "markdown",
      "source": [
        "Codingan tersebut merupakan perintah untuk membuat matriks korelasi dan menampilkan hasilnya dalam bentuk heatmap.\n",
        "\n",
        "Hasil dari heatmap akan menunjukkan korelasi antara setiap pasang variabel dalam data set. Setiap sel pada heatmap menunjukkan korelasi antara dua variabel dengan warna yang menunjukkan arah dan kekuatan korelasi. Semakin besar nilai korelasi, semakin kuat hubungan antara dua variabel tersebut."
      ],
      "metadata": {
        "id": "X-SmLaf1f4jz"
      }
    },
    {
      "cell_type": "markdown",
      "source": [
        "**4. Splitting Dataset**"
      ],
      "metadata": {
        "id": "Ue-S5QvcEZP3"
      }
    },
    {
      "cell_type": "markdown",
      "source": [
        "**4.1 Slicing**"
      ],
      "metadata": {
        "id": "y6eAqlWSHSCa"
      }
    },
    {
      "cell_type": "markdown",
      "source": [
        "We define x and y as x for data and y for label"
      ],
      "metadata": {
        "id": "bPWKEA19HYEQ"
      }
    },
    {
      "cell_type": "code",
      "source": [
        "x = dataset.drop('Neighborhood', axis=1)\n",
        "x"
      ],
      "metadata": {
        "colab": {
          "base_uri": "https://localhost:8080/",
          "height": 423
        },
        "id": "hCep1ou2LfU1",
        "outputId": "20037757-2e33-4b27-c55d-52bc4454b35f"
      },
      "execution_count": null,
      "outputs": [
        {
          "output_type": "execute_result",
          "data": {
            "text/plain": [
              "         Report Number  Occurred Time Reported Date  \\\n",
              "0       20080000465209    2114.000000    12/13/2008   \n",
              "1       20100000202011       0.000000    06/15/2010   \n",
              "3       20130000327785       0.000000    09/09/2013   \n",
              "4       20160000289384       0.000000    08/11/2016   \n",
              "7       20170000474905     800.000000    12/27/2017   \n",
              "...                ...            ...           ...   \n",
              "481371  20180000905946       0.000000    07/01/2018   \n",
              "481372  20180000240319       0.000000    07/01/2018   \n",
              "481373  20180000905953       0.000000    07/01/2018   \n",
              "481374  20070000430946    1362.029547    01/01/2007   \n",
              "481375  19990000333737    1362.029547    01/01/1999   \n",
              "\n",
              "       Primary Offense Description  \n",
              "0                       DUI-LIQUOR  \n",
              "1                      CHILD-OTHER  \n",
              "3                     SEXOFF-OTHER  \n",
              "4                     SEXOFF-OTHER  \n",
              "7        SEXOFF-INDECENT LIBERTIES  \n",
              "...                            ...  \n",
              "481371              THEFT-CARPROWL  \n",
              "481372              THEFT-CARPROWL  \n",
              "481373              THEFT-CARPROWL  \n",
              "481374                  RAPE-OTHER  \n",
              "481375              THEFT-SHOPLIFT  \n",
              "\n",
              "[380799 rows x 4 columns]"
            ],
            "text/html": [
              "\n",
              "  <div id=\"df-e34d8d45-2c30-422e-82e0-fb5ecfca2104\">\n",
              "    <div class=\"colab-df-container\">\n",
              "      <div>\n",
              "<style scoped>\n",
              "    .dataframe tbody tr th:only-of-type {\n",
              "        vertical-align: middle;\n",
              "    }\n",
              "\n",
              "    .dataframe tbody tr th {\n",
              "        vertical-align: top;\n",
              "    }\n",
              "\n",
              "    .dataframe thead th {\n",
              "        text-align: right;\n",
              "    }\n",
              "</style>\n",
              "<table border=\"1\" class=\"dataframe\">\n",
              "  <thead>\n",
              "    <tr style=\"text-align: right;\">\n",
              "      <th></th>\n",
              "      <th>Report Number</th>\n",
              "      <th>Occurred Time</th>\n",
              "      <th>Reported Date</th>\n",
              "      <th>Primary Offense Description</th>\n",
              "    </tr>\n",
              "  </thead>\n",
              "  <tbody>\n",
              "    <tr>\n",
              "      <th>0</th>\n",
              "      <td>20080000465209</td>\n",
              "      <td>2114.000000</td>\n",
              "      <td>12/13/2008</td>\n",
              "      <td>DUI-LIQUOR</td>\n",
              "    </tr>\n",
              "    <tr>\n",
              "      <th>1</th>\n",
              "      <td>20100000202011</td>\n",
              "      <td>0.000000</td>\n",
              "      <td>06/15/2010</td>\n",
              "      <td>CHILD-OTHER</td>\n",
              "    </tr>\n",
              "    <tr>\n",
              "      <th>3</th>\n",
              "      <td>20130000327785</td>\n",
              "      <td>0.000000</td>\n",
              "      <td>09/09/2013</td>\n",
              "      <td>SEXOFF-OTHER</td>\n",
              "    </tr>\n",
              "    <tr>\n",
              "      <th>4</th>\n",
              "      <td>20160000289384</td>\n",
              "      <td>0.000000</td>\n",
              "      <td>08/11/2016</td>\n",
              "      <td>SEXOFF-OTHER</td>\n",
              "    </tr>\n",
              "    <tr>\n",
              "      <th>7</th>\n",
              "      <td>20170000474905</td>\n",
              "      <td>800.000000</td>\n",
              "      <td>12/27/2017</td>\n",
              "      <td>SEXOFF-INDECENT LIBERTIES</td>\n",
              "    </tr>\n",
              "    <tr>\n",
              "      <th>...</th>\n",
              "      <td>...</td>\n",
              "      <td>...</td>\n",
              "      <td>...</td>\n",
              "      <td>...</td>\n",
              "    </tr>\n",
              "    <tr>\n",
              "      <th>481371</th>\n",
              "      <td>20180000905946</td>\n",
              "      <td>0.000000</td>\n",
              "      <td>07/01/2018</td>\n",
              "      <td>THEFT-CARPROWL</td>\n",
              "    </tr>\n",
              "    <tr>\n",
              "      <th>481372</th>\n",
              "      <td>20180000240319</td>\n",
              "      <td>0.000000</td>\n",
              "      <td>07/01/2018</td>\n",
              "      <td>THEFT-CARPROWL</td>\n",
              "    </tr>\n",
              "    <tr>\n",
              "      <th>481373</th>\n",
              "      <td>20180000905953</td>\n",
              "      <td>0.000000</td>\n",
              "      <td>07/01/2018</td>\n",
              "      <td>THEFT-CARPROWL</td>\n",
              "    </tr>\n",
              "    <tr>\n",
              "      <th>481374</th>\n",
              "      <td>20070000430946</td>\n",
              "      <td>1362.029547</td>\n",
              "      <td>01/01/2007</td>\n",
              "      <td>RAPE-OTHER</td>\n",
              "    </tr>\n",
              "    <tr>\n",
              "      <th>481375</th>\n",
              "      <td>19990000333737</td>\n",
              "      <td>1362.029547</td>\n",
              "      <td>01/01/1999</td>\n",
              "      <td>THEFT-SHOPLIFT</td>\n",
              "    </tr>\n",
              "  </tbody>\n",
              "</table>\n",
              "<p>380799 rows × 4 columns</p>\n",
              "</div>\n",
              "      <button class=\"colab-df-convert\" onclick=\"convertToInteractive('df-e34d8d45-2c30-422e-82e0-fb5ecfca2104')\"\n",
              "              title=\"Convert this dataframe to an interactive table.\"\n",
              "              style=\"display:none;\">\n",
              "        \n",
              "  <svg xmlns=\"http://www.w3.org/2000/svg\" height=\"24px\"viewBox=\"0 0 24 24\"\n",
              "       width=\"24px\">\n",
              "    <path d=\"M0 0h24v24H0V0z\" fill=\"none\"/>\n",
              "    <path d=\"M18.56 5.44l.94 2.06.94-2.06 2.06-.94-2.06-.94-.94-2.06-.94 2.06-2.06.94zm-11 1L8.5 8.5l.94-2.06 2.06-.94-2.06-.94L8.5 2.5l-.94 2.06-2.06.94zm10 10l.94 2.06.94-2.06 2.06-.94-2.06-.94-.94-2.06-.94 2.06-2.06.94z\"/><path d=\"M17.41 7.96l-1.37-1.37c-.4-.4-.92-.59-1.43-.59-.52 0-1.04.2-1.43.59L10.3 9.45l-7.72 7.72c-.78.78-.78 2.05 0 2.83L4 21.41c.39.39.9.59 1.41.59.51 0 1.02-.2 1.41-.59l7.78-7.78 2.81-2.81c.8-.78.8-2.07 0-2.86zM5.41 20L4 18.59l7.72-7.72 1.47 1.35L5.41 20z\"/>\n",
              "  </svg>\n",
              "      </button>\n",
              "      \n",
              "  <style>\n",
              "    .colab-df-container {\n",
              "      display:flex;\n",
              "      flex-wrap:wrap;\n",
              "      gap: 12px;\n",
              "    }\n",
              "\n",
              "    .colab-df-convert {\n",
              "      background-color: #E8F0FE;\n",
              "      border: none;\n",
              "      border-radius: 50%;\n",
              "      cursor: pointer;\n",
              "      display: none;\n",
              "      fill: #1967D2;\n",
              "      height: 32px;\n",
              "      padding: 0 0 0 0;\n",
              "      width: 32px;\n",
              "    }\n",
              "\n",
              "    .colab-df-convert:hover {\n",
              "      background-color: #E2EBFA;\n",
              "      box-shadow: 0px 1px 2px rgba(60, 64, 67, 0.3), 0px 1px 3px 1px rgba(60, 64, 67, 0.15);\n",
              "      fill: #174EA6;\n",
              "    }\n",
              "\n",
              "    [theme=dark] .colab-df-convert {\n",
              "      background-color: #3B4455;\n",
              "      fill: #D2E3FC;\n",
              "    }\n",
              "\n",
              "    [theme=dark] .colab-df-convert:hover {\n",
              "      background-color: #434B5C;\n",
              "      box-shadow: 0px 1px 3px 1px rgba(0, 0, 0, 0.15);\n",
              "      filter: drop-shadow(0px 1px 2px rgba(0, 0, 0, 0.3));\n",
              "      fill: #FFFFFF;\n",
              "    }\n",
              "  </style>\n",
              "\n",
              "      <script>\n",
              "        const buttonEl =\n",
              "          document.querySelector('#df-e34d8d45-2c30-422e-82e0-fb5ecfca2104 button.colab-df-convert');\n",
              "        buttonEl.style.display =\n",
              "          google.colab.kernel.accessAllowed ? 'block' : 'none';\n",
              "\n",
              "        async function convertToInteractive(key) {\n",
              "          const element = document.querySelector('#df-e34d8d45-2c30-422e-82e0-fb5ecfca2104');\n",
              "          const dataTable =\n",
              "            await google.colab.kernel.invokeFunction('convertToInteractive',\n",
              "                                                     [key], {});\n",
              "          if (!dataTable) return;\n",
              "\n",
              "          const docLinkHtml = 'Like what you see? Visit the ' +\n",
              "            '<a target=\"_blank\" href=https://colab.research.google.com/notebooks/data_table.ipynb>data table notebook</a>'\n",
              "            + ' to learn more about interactive tables.';\n",
              "          element.innerHTML = '';\n",
              "          dataTable['output_type'] = 'display_data';\n",
              "          await google.colab.output.renderOutput(dataTable, element);\n",
              "          const docLink = document.createElement('div');\n",
              "          docLink.innerHTML = docLinkHtml;\n",
              "          element.appendChild(docLink);\n",
              "        }\n",
              "      </script>\n",
              "    </div>\n",
              "  </div>\n",
              "  "
            ]
          },
          "metadata": {},
          "execution_count": 38
        }
      ]
    },
    {
      "cell_type": "markdown",
      "source": [
        "coding diatas digunakan untuk  untuk memperoleh subset atau potongan data dari sebuah objek yang berurutan berdasarkan indeks atau range indeks tertentu."
      ],
      "metadata": {
        "id": "zoyJWm8LgNhH"
      }
    },
    {
      "cell_type": "markdown",
      "source": [
        "Choose feature Type as a label"
      ],
      "metadata": {
        "id": "SkZgXnQ-tST1"
      }
    },
    {
      "cell_type": "code",
      "source": [
        "y = dataset[\"Neighborhood\"]\n",
        "y"
      ],
      "metadata": {
        "colab": {
          "base_uri": "https://localhost:8080/"
        },
        "id": "WOZTLMYeh3hj",
        "outputId": "b90fec0f-e2c7-4f7f-ea8b-ae53e1d6602e"
      },
      "execution_count": null,
      "outputs": [
        {
          "output_type": "execute_result",
          "data": {
            "text/plain": [
              "0         CENTRAL AREA/SQUIRE PARK\n",
              "1                       QUEEN ANNE\n",
              "3                          UNKNOWN\n",
              "4                          UNKNOWN\n",
              "7                          UNKNOWN\n",
              "                    ...           \n",
              "481371    CENTRAL AREA/SQUIRE PARK\n",
              "481372    CENTRAL AREA/SQUIRE PARK\n",
              "481373                   NORTHGATE\n",
              "481374                     UNKNOWN\n",
              "481375                     UNKNOWN\n",
              "Name: Neighborhood, Length: 380799, dtype: object"
            ]
          },
          "metadata": {},
          "execution_count": 39
        }
      ]
    },
    {
      "cell_type": "markdown",
      "source": [
        "Coding diatas digunakan untuk  memenggil dataset dari tabel y"
      ],
      "metadata": {
        "id": "QlqKz2Y0gal0"
      }
    },
    {
      "cell_type": "code",
      "source": [
        "y.values.reshape(-1,1)"
      ],
      "metadata": {
        "colab": {
          "base_uri": "https://localhost:8080/"
        },
        "id": "l6idhdXTrLAD",
        "outputId": "d5032964-1f7e-45ad-cab9-4e82cb0a0480"
      },
      "execution_count": null,
      "outputs": [
        {
          "output_type": "execute_result",
          "data": {
            "text/plain": [
              "array([['CENTRAL AREA/SQUIRE PARK'],\n",
              "       ['QUEEN ANNE'],\n",
              "       ['UNKNOWN'],\n",
              "       ...,\n",
              "       ['NORTHGATE'],\n",
              "       ['UNKNOWN'],\n",
              "       ['UNKNOWN']], dtype=object)"
            ]
          },
          "metadata": {},
          "execution_count": 40
        }
      ]
    },
    {
      "cell_type": "markdown",
      "source": [
        "coding diatas digunakan untuk  mengubah bentuk array satu dimensi menjadi array dua dimensi dengan satu kolom. Ini sering digunakan dalam kasus di mana kita perlu mengubah bentuk data untuk keperluan pemodelan atau analisis tertentu."
      ],
      "metadata": {
        "id": "3wetZklvgmhv"
      }
    },
    {
      "cell_type": "markdown",
      "source": [
        "**4.2 Categorical Encoding**\n",
        "\n",
        "Choose One Hot Encoding or Label Encoding for perform categorical encoding\n",
        "\n",
        "**One-Hot Encoding for data input x**"
      ],
      "metadata": {
        "id": "-KhD3RU7qniq"
      }
    },
    {
      "cell_type": "code",
      "source": [
        "x = pd.get_dummies(x)\n",
        "x"
      ],
      "metadata": {
        "colab": {
          "base_uri": "https://localhost:8080/",
          "height": 539
        },
        "id": "y_K5f2vyqNef",
        "outputId": "acc64b2d-1158-4e2d-b333-6fc2d24a34e8"
      },
      "execution_count": null,
      "outputs": [
        {
          "output_type": "execute_result",
          "data": {
            "text/plain": [
              "         Report Number  Occurred Time  Reported Date_01/01/1999  \\\n",
              "0       20080000465209    2114.000000                         0   \n",
              "1       20100000202011       0.000000                         0   \n",
              "3       20130000327785       0.000000                         0   \n",
              "4       20160000289384       0.000000                         0   \n",
              "7       20170000474905     800.000000                         0   \n",
              "...                ...            ...                       ...   \n",
              "481371  20180000905946       0.000000                         0   \n",
              "481372  20180000240319       0.000000                         0   \n",
              "481373  20180000905953       0.000000                         0   \n",
              "481374  20070000430946    1362.029547                         0   \n",
              "481375  19990000333737    1362.029547                         1   \n",
              "\n",
              "        Reported Date_01/01/2006  Reported Date_01/01/2007  \\\n",
              "0                              0                         0   \n",
              "1                              0                         0   \n",
              "3                              0                         0   \n",
              "4                              0                         0   \n",
              "7                              0                         0   \n",
              "...                          ...                       ...   \n",
              "481371                         0                         0   \n",
              "481372                         0                         0   \n",
              "481373                         0                         0   \n",
              "481374                         0                         1   \n",
              "481375                         0                         0   \n",
              "\n",
              "        Reported Date_01/01/2009  Reported Date_01/01/2011  \\\n",
              "0                              0                         0   \n",
              "1                              0                         0   \n",
              "3                              0                         0   \n",
              "4                              0                         0   \n",
              "7                              0                         0   \n",
              "...                          ...                       ...   \n",
              "481371                         0                         0   \n",
              "481372                         0                         0   \n",
              "481373                         0                         0   \n",
              "481374                         0                         0   \n",
              "481375                         0                         0   \n",
              "\n",
              "        Reported Date_01/01/2012  Reported Date_01/01/2013  \\\n",
              "0                              0                         0   \n",
              "1                              0                         0   \n",
              "3                              0                         0   \n",
              "4                              0                         0   \n",
              "7                              0                         0   \n",
              "...                          ...                       ...   \n",
              "481371                         0                         0   \n",
              "481372                         0                         0   \n",
              "481373                         0                         0   \n",
              "481374                         0                         0   \n",
              "481375                         0                         0   \n",
              "\n",
              "        Reported Date_01/01/2014  ...  \\\n",
              "0                              0  ...   \n",
              "1                              0  ...   \n",
              "3                              0  ...   \n",
              "4                              0  ...   \n",
              "7                              0  ...   \n",
              "...                          ...  ...   \n",
              "481371                         0  ...   \n",
              "481372                         0  ...   \n",
              "481373                         0  ...   \n",
              "481374                         0  ...   \n",
              "481375                         0  ...   \n",
              "\n",
              "        Primary Offense Description_VEH-THEFT-HVYEQUIP  \\\n",
              "0                                                    0   \n",
              "1                                                    0   \n",
              "3                                                    0   \n",
              "4                                                    0   \n",
              "7                                                    0   \n",
              "...                                                ...   \n",
              "481371                                               0   \n",
              "481372                                               0   \n",
              "481373                                               0   \n",
              "481374                                               0   \n",
              "481375                                               0   \n",
              "\n",
              "        Primary Offense Description_VEH-THEFT-MTRCYCLE  \\\n",
              "0                                                    0   \n",
              "1                                                    0   \n",
              "3                                                    0   \n",
              "4                                                    0   \n",
              "7                                                    0   \n",
              "...                                                ...   \n",
              "481371                                               0   \n",
              "481372                                               0   \n",
              "481373                                               0   \n",
              "481374                                               0   \n",
              "481375                                               0   \n",
              "\n",
              "        Primary Offense Description_VEH-THEFT-OTHVEH  \\\n",
              "0                                                  0   \n",
              "1                                                  0   \n",
              "3                                                  0   \n",
              "4                                                  0   \n",
              "7                                                  0   \n",
              "...                                              ...   \n",
              "481371                                             0   \n",
              "481372                                             0   \n",
              "481373                                             0   \n",
              "481374                                             0   \n",
              "481375                                             0   \n",
              "\n",
              "        Primary Offense Description_VEH-THEFT-RECREATION VEH  \\\n",
              "0                                                       0      \n",
              "1                                                       0      \n",
              "3                                                       0      \n",
              "4                                                       0      \n",
              "7                                                       0      \n",
              "...                                                   ...      \n",
              "481371                                                  0      \n",
              "481372                                                  0      \n",
              "481373                                                  0      \n",
              "481374                                                  0      \n",
              "481375                                                  0      \n",
              "\n",
              "        Primary Offense Description_VEH-THEFT-TRAILER  \\\n",
              "0                                                   0   \n",
              "1                                                   0   \n",
              "3                                                   0   \n",
              "4                                                   0   \n",
              "7                                                   0   \n",
              "...                                               ...   \n",
              "481371                                              0   \n",
              "481372                                              0   \n",
              "481373                                              0   \n",
              "481374                                              0   \n",
              "481375                                              0   \n",
              "\n",
              "        Primary Offense Description_VEH-THEFT-TRUCK  \\\n",
              "0                                                 0   \n",
              "1                                                 0   \n",
              "3                                                 0   \n",
              "4                                                 0   \n",
              "7                                                 0   \n",
              "...                                             ...   \n",
              "481371                                            0   \n",
              "481372                                            0   \n",
              "481373                                            0   \n",
              "481374                                            0   \n",
              "481375                                            0   \n",
              "\n",
              "        Primary Offense Description_WEAPON-CONCEALED  \\\n",
              "0                                                  0   \n",
              "1                                                  0   \n",
              "3                                                  0   \n",
              "4                                                  0   \n",
              "7                                                  0   \n",
              "...                                              ...   \n",
              "481371                                             0   \n",
              "481372                                             0   \n",
              "481373                                             0   \n",
              "481374                                             0   \n",
              "481375                                             0   \n",
              "\n",
              "        Primary Offense Description_WEAPON-DISCHARGE  \\\n",
              "0                                                  0   \n",
              "1                                                  0   \n",
              "3                                                  0   \n",
              "4                                                  0   \n",
              "7                                                  0   \n",
              "...                                              ...   \n",
              "481371                                             0   \n",
              "481372                                             0   \n",
              "481373                                             0   \n",
              "481374                                             0   \n",
              "481375                                             0   \n",
              "\n",
              "        Primary Offense Description_WEAPON-POSSESSION  \\\n",
              "0                                                   0   \n",
              "1                                                   0   \n",
              "3                                                   0   \n",
              "4                                                   0   \n",
              "7                                                   0   \n",
              "...                                               ...   \n",
              "481371                                              0   \n",
              "481372                                              0   \n",
              "481373                                              0   \n",
              "481374                                              0   \n",
              "481375                                              0   \n",
              "\n",
              "        Primary Offense Description_WEAPON-UNLAWFUL USE  \n",
              "0                                                     0  \n",
              "1                                                     0  \n",
              "3                                                     0  \n",
              "4                                                     0  \n",
              "7                                                     0  \n",
              "...                                                 ...  \n",
              "481371                                                0  \n",
              "481372                                                0  \n",
              "481373                                                0  \n",
              "481374                                                0  \n",
              "481375                                                0  \n",
              "\n",
              "[380799 rows x 3886 columns]"
            ],
            "text/html": [
              "\n",
              "  <div id=\"df-38f1cd70-fc49-40c8-bd63-cab836ddd0fd\">\n",
              "    <div class=\"colab-df-container\">\n",
              "      <div>\n",
              "<style scoped>\n",
              "    .dataframe tbody tr th:only-of-type {\n",
              "        vertical-align: middle;\n",
              "    }\n",
              "\n",
              "    .dataframe tbody tr th {\n",
              "        vertical-align: top;\n",
              "    }\n",
              "\n",
              "    .dataframe thead th {\n",
              "        text-align: right;\n",
              "    }\n",
              "</style>\n",
              "<table border=\"1\" class=\"dataframe\">\n",
              "  <thead>\n",
              "    <tr style=\"text-align: right;\">\n",
              "      <th></th>\n",
              "      <th>Report Number</th>\n",
              "      <th>Occurred Time</th>\n",
              "      <th>Reported Date_01/01/1999</th>\n",
              "      <th>Reported Date_01/01/2006</th>\n",
              "      <th>Reported Date_01/01/2007</th>\n",
              "      <th>Reported Date_01/01/2009</th>\n",
              "      <th>Reported Date_01/01/2011</th>\n",
              "      <th>Reported Date_01/01/2012</th>\n",
              "      <th>Reported Date_01/01/2013</th>\n",
              "      <th>Reported Date_01/01/2014</th>\n",
              "      <th>...</th>\n",
              "      <th>Primary Offense Description_VEH-THEFT-HVYEQUIP</th>\n",
              "      <th>Primary Offense Description_VEH-THEFT-MTRCYCLE</th>\n",
              "      <th>Primary Offense Description_VEH-THEFT-OTHVEH</th>\n",
              "      <th>Primary Offense Description_VEH-THEFT-RECREATION VEH</th>\n",
              "      <th>Primary Offense Description_VEH-THEFT-TRAILER</th>\n",
              "      <th>Primary Offense Description_VEH-THEFT-TRUCK</th>\n",
              "      <th>Primary Offense Description_WEAPON-CONCEALED</th>\n",
              "      <th>Primary Offense Description_WEAPON-DISCHARGE</th>\n",
              "      <th>Primary Offense Description_WEAPON-POSSESSION</th>\n",
              "      <th>Primary Offense Description_WEAPON-UNLAWFUL USE</th>\n",
              "    </tr>\n",
              "  </thead>\n",
              "  <tbody>\n",
              "    <tr>\n",
              "      <th>0</th>\n",
              "      <td>20080000465209</td>\n",
              "      <td>2114.000000</td>\n",
              "      <td>0</td>\n",
              "      <td>0</td>\n",
              "      <td>0</td>\n",
              "      <td>0</td>\n",
              "      <td>0</td>\n",
              "      <td>0</td>\n",
              "      <td>0</td>\n",
              "      <td>0</td>\n",
              "      <td>...</td>\n",
              "      <td>0</td>\n",
              "      <td>0</td>\n",
              "      <td>0</td>\n",
              "      <td>0</td>\n",
              "      <td>0</td>\n",
              "      <td>0</td>\n",
              "      <td>0</td>\n",
              "      <td>0</td>\n",
              "      <td>0</td>\n",
              "      <td>0</td>\n",
              "    </tr>\n",
              "    <tr>\n",
              "      <th>1</th>\n",
              "      <td>20100000202011</td>\n",
              "      <td>0.000000</td>\n",
              "      <td>0</td>\n",
              "      <td>0</td>\n",
              "      <td>0</td>\n",
              "      <td>0</td>\n",
              "      <td>0</td>\n",
              "      <td>0</td>\n",
              "      <td>0</td>\n",
              "      <td>0</td>\n",
              "      <td>...</td>\n",
              "      <td>0</td>\n",
              "      <td>0</td>\n",
              "      <td>0</td>\n",
              "      <td>0</td>\n",
              "      <td>0</td>\n",
              "      <td>0</td>\n",
              "      <td>0</td>\n",
              "      <td>0</td>\n",
              "      <td>0</td>\n",
              "      <td>0</td>\n",
              "    </tr>\n",
              "    <tr>\n",
              "      <th>3</th>\n",
              "      <td>20130000327785</td>\n",
              "      <td>0.000000</td>\n",
              "      <td>0</td>\n",
              "      <td>0</td>\n",
              "      <td>0</td>\n",
              "      <td>0</td>\n",
              "      <td>0</td>\n",
              "      <td>0</td>\n",
              "      <td>0</td>\n",
              "      <td>0</td>\n",
              "      <td>...</td>\n",
              "      <td>0</td>\n",
              "      <td>0</td>\n",
              "      <td>0</td>\n",
              "      <td>0</td>\n",
              "      <td>0</td>\n",
              "      <td>0</td>\n",
              "      <td>0</td>\n",
              "      <td>0</td>\n",
              "      <td>0</td>\n",
              "      <td>0</td>\n",
              "    </tr>\n",
              "    <tr>\n",
              "      <th>4</th>\n",
              "      <td>20160000289384</td>\n",
              "      <td>0.000000</td>\n",
              "      <td>0</td>\n",
              "      <td>0</td>\n",
              "      <td>0</td>\n",
              "      <td>0</td>\n",
              "      <td>0</td>\n",
              "      <td>0</td>\n",
              "      <td>0</td>\n",
              "      <td>0</td>\n",
              "      <td>...</td>\n",
              "      <td>0</td>\n",
              "      <td>0</td>\n",
              "      <td>0</td>\n",
              "      <td>0</td>\n",
              "      <td>0</td>\n",
              "      <td>0</td>\n",
              "      <td>0</td>\n",
              "      <td>0</td>\n",
              "      <td>0</td>\n",
              "      <td>0</td>\n",
              "    </tr>\n",
              "    <tr>\n",
              "      <th>7</th>\n",
              "      <td>20170000474905</td>\n",
              "      <td>800.000000</td>\n",
              "      <td>0</td>\n",
              "      <td>0</td>\n",
              "      <td>0</td>\n",
              "      <td>0</td>\n",
              "      <td>0</td>\n",
              "      <td>0</td>\n",
              "      <td>0</td>\n",
              "      <td>0</td>\n",
              "      <td>...</td>\n",
              "      <td>0</td>\n",
              "      <td>0</td>\n",
              "      <td>0</td>\n",
              "      <td>0</td>\n",
              "      <td>0</td>\n",
              "      <td>0</td>\n",
              "      <td>0</td>\n",
              "      <td>0</td>\n",
              "      <td>0</td>\n",
              "      <td>0</td>\n",
              "    </tr>\n",
              "    <tr>\n",
              "      <th>...</th>\n",
              "      <td>...</td>\n",
              "      <td>...</td>\n",
              "      <td>...</td>\n",
              "      <td>...</td>\n",
              "      <td>...</td>\n",
              "      <td>...</td>\n",
              "      <td>...</td>\n",
              "      <td>...</td>\n",
              "      <td>...</td>\n",
              "      <td>...</td>\n",
              "      <td>...</td>\n",
              "      <td>...</td>\n",
              "      <td>...</td>\n",
              "      <td>...</td>\n",
              "      <td>...</td>\n",
              "      <td>...</td>\n",
              "      <td>...</td>\n",
              "      <td>...</td>\n",
              "      <td>...</td>\n",
              "      <td>...</td>\n",
              "      <td>...</td>\n",
              "    </tr>\n",
              "    <tr>\n",
              "      <th>481371</th>\n",
              "      <td>20180000905946</td>\n",
              "      <td>0.000000</td>\n",
              "      <td>0</td>\n",
              "      <td>0</td>\n",
              "      <td>0</td>\n",
              "      <td>0</td>\n",
              "      <td>0</td>\n",
              "      <td>0</td>\n",
              "      <td>0</td>\n",
              "      <td>0</td>\n",
              "      <td>...</td>\n",
              "      <td>0</td>\n",
              "      <td>0</td>\n",
              "      <td>0</td>\n",
              "      <td>0</td>\n",
              "      <td>0</td>\n",
              "      <td>0</td>\n",
              "      <td>0</td>\n",
              "      <td>0</td>\n",
              "      <td>0</td>\n",
              "      <td>0</td>\n",
              "    </tr>\n",
              "    <tr>\n",
              "      <th>481372</th>\n",
              "      <td>20180000240319</td>\n",
              "      <td>0.000000</td>\n",
              "      <td>0</td>\n",
              "      <td>0</td>\n",
              "      <td>0</td>\n",
              "      <td>0</td>\n",
              "      <td>0</td>\n",
              "      <td>0</td>\n",
              "      <td>0</td>\n",
              "      <td>0</td>\n",
              "      <td>...</td>\n",
              "      <td>0</td>\n",
              "      <td>0</td>\n",
              "      <td>0</td>\n",
              "      <td>0</td>\n",
              "      <td>0</td>\n",
              "      <td>0</td>\n",
              "      <td>0</td>\n",
              "      <td>0</td>\n",
              "      <td>0</td>\n",
              "      <td>0</td>\n",
              "    </tr>\n",
              "    <tr>\n",
              "      <th>481373</th>\n",
              "      <td>20180000905953</td>\n",
              "      <td>0.000000</td>\n",
              "      <td>0</td>\n",
              "      <td>0</td>\n",
              "      <td>0</td>\n",
              "      <td>0</td>\n",
              "      <td>0</td>\n",
              "      <td>0</td>\n",
              "      <td>0</td>\n",
              "      <td>0</td>\n",
              "      <td>...</td>\n",
              "      <td>0</td>\n",
              "      <td>0</td>\n",
              "      <td>0</td>\n",
              "      <td>0</td>\n",
              "      <td>0</td>\n",
              "      <td>0</td>\n",
              "      <td>0</td>\n",
              "      <td>0</td>\n",
              "      <td>0</td>\n",
              "      <td>0</td>\n",
              "    </tr>\n",
              "    <tr>\n",
              "      <th>481374</th>\n",
              "      <td>20070000430946</td>\n",
              "      <td>1362.029547</td>\n",
              "      <td>0</td>\n",
              "      <td>0</td>\n",
              "      <td>1</td>\n",
              "      <td>0</td>\n",
              "      <td>0</td>\n",
              "      <td>0</td>\n",
              "      <td>0</td>\n",
              "      <td>0</td>\n",
              "      <td>...</td>\n",
              "      <td>0</td>\n",
              "      <td>0</td>\n",
              "      <td>0</td>\n",
              "      <td>0</td>\n",
              "      <td>0</td>\n",
              "      <td>0</td>\n",
              "      <td>0</td>\n",
              "      <td>0</td>\n",
              "      <td>0</td>\n",
              "      <td>0</td>\n",
              "    </tr>\n",
              "    <tr>\n",
              "      <th>481375</th>\n",
              "      <td>19990000333737</td>\n",
              "      <td>1362.029547</td>\n",
              "      <td>1</td>\n",
              "      <td>0</td>\n",
              "      <td>0</td>\n",
              "      <td>0</td>\n",
              "      <td>0</td>\n",
              "      <td>0</td>\n",
              "      <td>0</td>\n",
              "      <td>0</td>\n",
              "      <td>...</td>\n",
              "      <td>0</td>\n",
              "      <td>0</td>\n",
              "      <td>0</td>\n",
              "      <td>0</td>\n",
              "      <td>0</td>\n",
              "      <td>0</td>\n",
              "      <td>0</td>\n",
              "      <td>0</td>\n",
              "      <td>0</td>\n",
              "      <td>0</td>\n",
              "    </tr>\n",
              "  </tbody>\n",
              "</table>\n",
              "<p>380799 rows × 3886 columns</p>\n",
              "</div>\n",
              "      <button class=\"colab-df-convert\" onclick=\"convertToInteractive('df-38f1cd70-fc49-40c8-bd63-cab836ddd0fd')\"\n",
              "              title=\"Convert this dataframe to an interactive table.\"\n",
              "              style=\"display:none;\">\n",
              "        \n",
              "  <svg xmlns=\"http://www.w3.org/2000/svg\" height=\"24px\"viewBox=\"0 0 24 24\"\n",
              "       width=\"24px\">\n",
              "    <path d=\"M0 0h24v24H0V0z\" fill=\"none\"/>\n",
              "    <path d=\"M18.56 5.44l.94 2.06.94-2.06 2.06-.94-2.06-.94-.94-2.06-.94 2.06-2.06.94zm-11 1L8.5 8.5l.94-2.06 2.06-.94-2.06-.94L8.5 2.5l-.94 2.06-2.06.94zm10 10l.94 2.06.94-2.06 2.06-.94-2.06-.94-.94-2.06-.94 2.06-2.06.94z\"/><path d=\"M17.41 7.96l-1.37-1.37c-.4-.4-.92-.59-1.43-.59-.52 0-1.04.2-1.43.59L10.3 9.45l-7.72 7.72c-.78.78-.78 2.05 0 2.83L4 21.41c.39.39.9.59 1.41.59.51 0 1.02-.2 1.41-.59l7.78-7.78 2.81-2.81c.8-.78.8-2.07 0-2.86zM5.41 20L4 18.59l7.72-7.72 1.47 1.35L5.41 20z\"/>\n",
              "  </svg>\n",
              "      </button>\n",
              "      \n",
              "  <style>\n",
              "    .colab-df-container {\n",
              "      display:flex;\n",
              "      flex-wrap:wrap;\n",
              "      gap: 12px;\n",
              "    }\n",
              "\n",
              "    .colab-df-convert {\n",
              "      background-color: #E8F0FE;\n",
              "      border: none;\n",
              "      border-radius: 50%;\n",
              "      cursor: pointer;\n",
              "      display: none;\n",
              "      fill: #1967D2;\n",
              "      height: 32px;\n",
              "      padding: 0 0 0 0;\n",
              "      width: 32px;\n",
              "    }\n",
              "\n",
              "    .colab-df-convert:hover {\n",
              "      background-color: #E2EBFA;\n",
              "      box-shadow: 0px 1px 2px rgba(60, 64, 67, 0.3), 0px 1px 3px 1px rgba(60, 64, 67, 0.15);\n",
              "      fill: #174EA6;\n",
              "    }\n",
              "\n",
              "    [theme=dark] .colab-df-convert {\n",
              "      background-color: #3B4455;\n",
              "      fill: #D2E3FC;\n",
              "    }\n",
              "\n",
              "    [theme=dark] .colab-df-convert:hover {\n",
              "      background-color: #434B5C;\n",
              "      box-shadow: 0px 1px 3px 1px rgba(0, 0, 0, 0.15);\n",
              "      filter: drop-shadow(0px 1px 2px rgba(0, 0, 0, 0.3));\n",
              "      fill: #FFFFFF;\n",
              "    }\n",
              "  </style>\n",
              "\n",
              "      <script>\n",
              "        const buttonEl =\n",
              "          document.querySelector('#df-38f1cd70-fc49-40c8-bd63-cab836ddd0fd button.colab-df-convert');\n",
              "        buttonEl.style.display =\n",
              "          google.colab.kernel.accessAllowed ? 'block' : 'none';\n",
              "\n",
              "        async function convertToInteractive(key) {\n",
              "          const element = document.querySelector('#df-38f1cd70-fc49-40c8-bd63-cab836ddd0fd');\n",
              "          const dataTable =\n",
              "            await google.colab.kernel.invokeFunction('convertToInteractive',\n",
              "                                                     [key], {});\n",
              "          if (!dataTable) return;\n",
              "\n",
              "          const docLinkHtml = 'Like what you see? Visit the ' +\n",
              "            '<a target=\"_blank\" href=https://colab.research.google.com/notebooks/data_table.ipynb>data table notebook</a>'\n",
              "            + ' to learn more about interactive tables.';\n",
              "          element.innerHTML = '';\n",
              "          dataTable['output_type'] = 'display_data';\n",
              "          await google.colab.output.renderOutput(dataTable, element);\n",
              "          const docLink = document.createElement('div');\n",
              "          docLink.innerHTML = docLinkHtml;\n",
              "          element.appendChild(docLink);\n",
              "        }\n",
              "      </script>\n",
              "    </div>\n",
              "  </div>\n",
              "  "
            ]
          },
          "metadata": {},
          "execution_count": 41
        }
      ]
    },
    {
      "cell_type": "markdown",
      "source": [
        "coding diatas digunakan untuk mencari nilai dummy untuk tabel x"
      ],
      "metadata": {
        "id": "WMk4UbjbgrPi"
      }
    },
    {
      "cell_type": "code",
      "source": [
        "x.shape"
      ],
      "metadata": {
        "colab": {
          "base_uri": "https://localhost:8080/"
        },
        "id": "bTWosUkWqZyG",
        "outputId": "d7b60242-338a-4a79-aa63-e7a3e4e8cf35"
      },
      "execution_count": null,
      "outputs": [
        {
          "output_type": "execute_result",
          "data": {
            "text/plain": [
              "(380799, 3886)"
            ]
          },
          "metadata": {},
          "execution_count": 42
        }
      ]
    },
    {
      "cell_type": "markdown",
      "source": [
        "coding diatas digunakan untuk mencari ukuran dari bentuk tabel t dengan jumlah baris sebanyak 380799 dengan kolom sebanyak 3886"
      ],
      "metadata": {
        "id": "S4IWXNWqgs4B"
      }
    },
    {
      "cell_type": "markdown",
      "source": [
        "**4.2.1 Standarization**"
      ],
      "metadata": {
        "id": "BuOZc5O6GUJz"
      }
    },
    {
      "cell_type": "markdown",
      "source": [
        "Standardization is used on the data values that are normally distributed. Further, by applying standardization, we tend to make the mean of the dataset as 0 and the standard deviation equivalent to 1.\n",
        "\n",
        "That is, by standardizing the values, we get the following statistics of the data distribution\n",
        "\n",
        "mean = 0\n",
        "standard deviation = 1\n",
        "\n",
        "Thus, by this the data set becomes self explanatory and easy to analyze as the mean turns down to 0 and it happens to have an unit variance.\n",
        "\n",
        "References: https://www.askpython.com/python/examples/standardize-data-in-python#:~:text=Ways%20to%20Standardize%20Data%20in%20Python%201%201.,load_iris%20...%202%202.%20Using%20StandardScaler%20%28%29%20function"
      ],
      "metadata": {
        "id": "B4NxpFrsHDmP"
      }
    },
    {
      "cell_type": "code",
      "source": [
        "from sklearn.preprocessing import StandardScaler\n",
        "std_scale = StandardScaler().fit_transform(x)\n",
        "std_scale = pd.DataFrame(std_scale)\n",
        "\n",
        "std_scale"
      ],
      "metadata": {
        "colab": {
          "base_uri": "https://localhost:8080/",
          "height": 487
        },
        "id": "GR-GhzRXGRNg",
        "outputId": "f66c7a94-e5a8-4d32-856d-f10a4050459c"
      },
      "execution_count": null,
      "outputs": [
        {
          "output_type": "execute_result",
          "data": {
            "text/plain": [
              "            0         1           2         3           4         5     \\\n",
              "0      -1.620396  1.086687   -0.001621 -0.001621   -0.001621 -0.001621   \n",
              "1      -0.962538 -1.976244   -0.001621 -0.001621   -0.001621 -0.001621   \n",
              "2       0.024266 -1.976244   -0.001621 -0.001621   -0.001621 -0.001621   \n",
              "3       1.011064 -1.976244   -0.001621 -0.001621   -0.001621 -0.001621   \n",
              "4       1.340004 -0.817141   -0.001621 -0.001621   -0.001621 -0.001621   \n",
              "...          ...       ...         ...       ...         ...       ...   \n",
              "380794  1.668951 -1.976244   -0.001621 -0.001621   -0.001621 -0.001621   \n",
              "380795  1.668929 -1.976244   -0.001621 -0.001621   -0.001621 -0.001621   \n",
              "380796  1.668951 -1.976244   -0.001621 -0.001621   -0.001621 -0.001621   \n",
              "380797 -1.949331 -0.002828   -0.001621 -0.001621  617.088324 -0.001621   \n",
              "380798 -4.580800 -0.002828  617.088324 -0.001621   -0.001621 -0.001621   \n",
              "\n",
              "            6         7         8         9     ...      3876      3877  \\\n",
              "0      -0.005125 -0.005125 -0.006682 -0.006482  ... -0.007247 -0.064302   \n",
              "1      -0.005125 -0.005125 -0.006682 -0.006482  ... -0.007247 -0.064302   \n",
              "2      -0.005125 -0.005125 -0.006682 -0.006482  ... -0.007247 -0.064302   \n",
              "3      -0.005125 -0.005125 -0.006682 -0.006482  ... -0.007247 -0.064302   \n",
              "4      -0.005125 -0.005125 -0.006682 -0.006482  ... -0.007247 -0.064302   \n",
              "...          ...       ...       ...       ...  ...       ...       ...   \n",
              "380794 -0.005125 -0.005125 -0.006682 -0.006482  ... -0.007247 -0.064302   \n",
              "380795 -0.005125 -0.005125 -0.006682 -0.006482  ... -0.007247 -0.064302   \n",
              "380796 -0.005125 -0.005125 -0.006682 -0.006482  ... -0.007247 -0.064302   \n",
              "380797 -0.005125 -0.005125 -0.006682 -0.006482  ... -0.007247 -0.064302   \n",
              "380798 -0.005125 -0.005125 -0.006682 -0.006482  ... -0.007247 -0.064302   \n",
              "\n",
              "            3878     3879      3880    3881      3882      3883      3884  \\\n",
              "0      -0.010121 -0.00945 -0.027607 -0.0729 -0.023768 -0.043159 -0.068781   \n",
              "1      -0.010121 -0.00945 -0.027607 -0.0729 -0.023768 -0.043159 -0.068781   \n",
              "2      -0.010121 -0.00945 -0.027607 -0.0729 -0.023768 -0.043159 -0.068781   \n",
              "3      -0.010121 -0.00945 -0.027607 -0.0729 -0.023768 -0.043159 -0.068781   \n",
              "4      -0.010121 -0.00945 -0.027607 -0.0729 -0.023768 -0.043159 -0.068781   \n",
              "...          ...      ...       ...     ...       ...       ...       ...   \n",
              "380794 -0.010121 -0.00945 -0.027607 -0.0729 -0.023768 -0.043159 -0.068781   \n",
              "380795 -0.010121 -0.00945 -0.027607 -0.0729 -0.023768 -0.043159 -0.068781   \n",
              "380796 -0.010121 -0.00945 -0.027607 -0.0729 -0.023768 -0.043159 -0.068781   \n",
              "380797 -0.010121 -0.00945 -0.027607 -0.0729 -0.023768 -0.043159 -0.068781   \n",
              "380798 -0.010121 -0.00945 -0.027607 -0.0729 -0.023768 -0.043159 -0.068781   \n",
              "\n",
              "            3885  \n",
              "0      -0.044631  \n",
              "1      -0.044631  \n",
              "2      -0.044631  \n",
              "3      -0.044631  \n",
              "4      -0.044631  \n",
              "...          ...  \n",
              "380794 -0.044631  \n",
              "380795 -0.044631  \n",
              "380796 -0.044631  \n",
              "380797 -0.044631  \n",
              "380798 -0.044631  \n",
              "\n",
              "[380799 rows x 3886 columns]"
            ],
            "text/html": [
              "\n",
              "  <div id=\"df-d835b885-8aa2-41bf-9480-9df50e4bdf90\">\n",
              "    <div class=\"colab-df-container\">\n",
              "      <div>\n",
              "<style scoped>\n",
              "    .dataframe tbody tr th:only-of-type {\n",
              "        vertical-align: middle;\n",
              "    }\n",
              "\n",
              "    .dataframe tbody tr th {\n",
              "        vertical-align: top;\n",
              "    }\n",
              "\n",
              "    .dataframe thead th {\n",
              "        text-align: right;\n",
              "    }\n",
              "</style>\n",
              "<table border=\"1\" class=\"dataframe\">\n",
              "  <thead>\n",
              "    <tr style=\"text-align: right;\">\n",
              "      <th></th>\n",
              "      <th>0</th>\n",
              "      <th>1</th>\n",
              "      <th>2</th>\n",
              "      <th>3</th>\n",
              "      <th>4</th>\n",
              "      <th>5</th>\n",
              "      <th>6</th>\n",
              "      <th>7</th>\n",
              "      <th>8</th>\n",
              "      <th>9</th>\n",
              "      <th>...</th>\n",
              "      <th>3876</th>\n",
              "      <th>3877</th>\n",
              "      <th>3878</th>\n",
              "      <th>3879</th>\n",
              "      <th>3880</th>\n",
              "      <th>3881</th>\n",
              "      <th>3882</th>\n",
              "      <th>3883</th>\n",
              "      <th>3884</th>\n",
              "      <th>3885</th>\n",
              "    </tr>\n",
              "  </thead>\n",
              "  <tbody>\n",
              "    <tr>\n",
              "      <th>0</th>\n",
              "      <td>-1.620396</td>\n",
              "      <td>1.086687</td>\n",
              "      <td>-0.001621</td>\n",
              "      <td>-0.001621</td>\n",
              "      <td>-0.001621</td>\n",
              "      <td>-0.001621</td>\n",
              "      <td>-0.005125</td>\n",
              "      <td>-0.005125</td>\n",
              "      <td>-0.006682</td>\n",
              "      <td>-0.006482</td>\n",
              "      <td>...</td>\n",
              "      <td>-0.007247</td>\n",
              "      <td>-0.064302</td>\n",
              "      <td>-0.010121</td>\n",
              "      <td>-0.00945</td>\n",
              "      <td>-0.027607</td>\n",
              "      <td>-0.0729</td>\n",
              "      <td>-0.023768</td>\n",
              "      <td>-0.043159</td>\n",
              "      <td>-0.068781</td>\n",
              "      <td>-0.044631</td>\n",
              "    </tr>\n",
              "    <tr>\n",
              "      <th>1</th>\n",
              "      <td>-0.962538</td>\n",
              "      <td>-1.976244</td>\n",
              "      <td>-0.001621</td>\n",
              "      <td>-0.001621</td>\n",
              "      <td>-0.001621</td>\n",
              "      <td>-0.001621</td>\n",
              "      <td>-0.005125</td>\n",
              "      <td>-0.005125</td>\n",
              "      <td>-0.006682</td>\n",
              "      <td>-0.006482</td>\n",
              "      <td>...</td>\n",
              "      <td>-0.007247</td>\n",
              "      <td>-0.064302</td>\n",
              "      <td>-0.010121</td>\n",
              "      <td>-0.00945</td>\n",
              "      <td>-0.027607</td>\n",
              "      <td>-0.0729</td>\n",
              "      <td>-0.023768</td>\n",
              "      <td>-0.043159</td>\n",
              "      <td>-0.068781</td>\n",
              "      <td>-0.044631</td>\n",
              "    </tr>\n",
              "    <tr>\n",
              "      <th>2</th>\n",
              "      <td>0.024266</td>\n",
              "      <td>-1.976244</td>\n",
              "      <td>-0.001621</td>\n",
              "      <td>-0.001621</td>\n",
              "      <td>-0.001621</td>\n",
              "      <td>-0.001621</td>\n",
              "      <td>-0.005125</td>\n",
              "      <td>-0.005125</td>\n",
              "      <td>-0.006682</td>\n",
              "      <td>-0.006482</td>\n",
              "      <td>...</td>\n",
              "      <td>-0.007247</td>\n",
              "      <td>-0.064302</td>\n",
              "      <td>-0.010121</td>\n",
              "      <td>-0.00945</td>\n",
              "      <td>-0.027607</td>\n",
              "      <td>-0.0729</td>\n",
              "      <td>-0.023768</td>\n",
              "      <td>-0.043159</td>\n",
              "      <td>-0.068781</td>\n",
              "      <td>-0.044631</td>\n",
              "    </tr>\n",
              "    <tr>\n",
              "      <th>3</th>\n",
              "      <td>1.011064</td>\n",
              "      <td>-1.976244</td>\n",
              "      <td>-0.001621</td>\n",
              "      <td>-0.001621</td>\n",
              "      <td>-0.001621</td>\n",
              "      <td>-0.001621</td>\n",
              "      <td>-0.005125</td>\n",
              "      <td>-0.005125</td>\n",
              "      <td>-0.006682</td>\n",
              "      <td>-0.006482</td>\n",
              "      <td>...</td>\n",
              "      <td>-0.007247</td>\n",
              "      <td>-0.064302</td>\n",
              "      <td>-0.010121</td>\n",
              "      <td>-0.00945</td>\n",
              "      <td>-0.027607</td>\n",
              "      <td>-0.0729</td>\n",
              "      <td>-0.023768</td>\n",
              "      <td>-0.043159</td>\n",
              "      <td>-0.068781</td>\n",
              "      <td>-0.044631</td>\n",
              "    </tr>\n",
              "    <tr>\n",
              "      <th>4</th>\n",
              "      <td>1.340004</td>\n",
              "      <td>-0.817141</td>\n",
              "      <td>-0.001621</td>\n",
              "      <td>-0.001621</td>\n",
              "      <td>-0.001621</td>\n",
              "      <td>-0.001621</td>\n",
              "      <td>-0.005125</td>\n",
              "      <td>-0.005125</td>\n",
              "      <td>-0.006682</td>\n",
              "      <td>-0.006482</td>\n",
              "      <td>...</td>\n",
              "      <td>-0.007247</td>\n",
              "      <td>-0.064302</td>\n",
              "      <td>-0.010121</td>\n",
              "      <td>-0.00945</td>\n",
              "      <td>-0.027607</td>\n",
              "      <td>-0.0729</td>\n",
              "      <td>-0.023768</td>\n",
              "      <td>-0.043159</td>\n",
              "      <td>-0.068781</td>\n",
              "      <td>-0.044631</td>\n",
              "    </tr>\n",
              "    <tr>\n",
              "      <th>...</th>\n",
              "      <td>...</td>\n",
              "      <td>...</td>\n",
              "      <td>...</td>\n",
              "      <td>...</td>\n",
              "      <td>...</td>\n",
              "      <td>...</td>\n",
              "      <td>...</td>\n",
              "      <td>...</td>\n",
              "      <td>...</td>\n",
              "      <td>...</td>\n",
              "      <td>...</td>\n",
              "      <td>...</td>\n",
              "      <td>...</td>\n",
              "      <td>...</td>\n",
              "      <td>...</td>\n",
              "      <td>...</td>\n",
              "      <td>...</td>\n",
              "      <td>...</td>\n",
              "      <td>...</td>\n",
              "      <td>...</td>\n",
              "      <td>...</td>\n",
              "    </tr>\n",
              "    <tr>\n",
              "      <th>380794</th>\n",
              "      <td>1.668951</td>\n",
              "      <td>-1.976244</td>\n",
              "      <td>-0.001621</td>\n",
              "      <td>-0.001621</td>\n",
              "      <td>-0.001621</td>\n",
              "      <td>-0.001621</td>\n",
              "      <td>-0.005125</td>\n",
              "      <td>-0.005125</td>\n",
              "      <td>-0.006682</td>\n",
              "      <td>-0.006482</td>\n",
              "      <td>...</td>\n",
              "      <td>-0.007247</td>\n",
              "      <td>-0.064302</td>\n",
              "      <td>-0.010121</td>\n",
              "      <td>-0.00945</td>\n",
              "      <td>-0.027607</td>\n",
              "      <td>-0.0729</td>\n",
              "      <td>-0.023768</td>\n",
              "      <td>-0.043159</td>\n",
              "      <td>-0.068781</td>\n",
              "      <td>-0.044631</td>\n",
              "    </tr>\n",
              "    <tr>\n",
              "      <th>380795</th>\n",
              "      <td>1.668929</td>\n",
              "      <td>-1.976244</td>\n",
              "      <td>-0.001621</td>\n",
              "      <td>-0.001621</td>\n",
              "      <td>-0.001621</td>\n",
              "      <td>-0.001621</td>\n",
              "      <td>-0.005125</td>\n",
              "      <td>-0.005125</td>\n",
              "      <td>-0.006682</td>\n",
              "      <td>-0.006482</td>\n",
              "      <td>...</td>\n",
              "      <td>-0.007247</td>\n",
              "      <td>-0.064302</td>\n",
              "      <td>-0.010121</td>\n",
              "      <td>-0.00945</td>\n",
              "      <td>-0.027607</td>\n",
              "      <td>-0.0729</td>\n",
              "      <td>-0.023768</td>\n",
              "      <td>-0.043159</td>\n",
              "      <td>-0.068781</td>\n",
              "      <td>-0.044631</td>\n",
              "    </tr>\n",
              "    <tr>\n",
              "      <th>380796</th>\n",
              "      <td>1.668951</td>\n",
              "      <td>-1.976244</td>\n",
              "      <td>-0.001621</td>\n",
              "      <td>-0.001621</td>\n",
              "      <td>-0.001621</td>\n",
              "      <td>-0.001621</td>\n",
              "      <td>-0.005125</td>\n",
              "      <td>-0.005125</td>\n",
              "      <td>-0.006682</td>\n",
              "      <td>-0.006482</td>\n",
              "      <td>...</td>\n",
              "      <td>-0.007247</td>\n",
              "      <td>-0.064302</td>\n",
              "      <td>-0.010121</td>\n",
              "      <td>-0.00945</td>\n",
              "      <td>-0.027607</td>\n",
              "      <td>-0.0729</td>\n",
              "      <td>-0.023768</td>\n",
              "      <td>-0.043159</td>\n",
              "      <td>-0.068781</td>\n",
              "      <td>-0.044631</td>\n",
              "    </tr>\n",
              "    <tr>\n",
              "      <th>380797</th>\n",
              "      <td>-1.949331</td>\n",
              "      <td>-0.002828</td>\n",
              "      <td>-0.001621</td>\n",
              "      <td>-0.001621</td>\n",
              "      <td>617.088324</td>\n",
              "      <td>-0.001621</td>\n",
              "      <td>-0.005125</td>\n",
              "      <td>-0.005125</td>\n",
              "      <td>-0.006682</td>\n",
              "      <td>-0.006482</td>\n",
              "      <td>...</td>\n",
              "      <td>-0.007247</td>\n",
              "      <td>-0.064302</td>\n",
              "      <td>-0.010121</td>\n",
              "      <td>-0.00945</td>\n",
              "      <td>-0.027607</td>\n",
              "      <td>-0.0729</td>\n",
              "      <td>-0.023768</td>\n",
              "      <td>-0.043159</td>\n",
              "      <td>-0.068781</td>\n",
              "      <td>-0.044631</td>\n",
              "    </tr>\n",
              "    <tr>\n",
              "      <th>380798</th>\n",
              "      <td>-4.580800</td>\n",
              "      <td>-0.002828</td>\n",
              "      <td>617.088324</td>\n",
              "      <td>-0.001621</td>\n",
              "      <td>-0.001621</td>\n",
              "      <td>-0.001621</td>\n",
              "      <td>-0.005125</td>\n",
              "      <td>-0.005125</td>\n",
              "      <td>-0.006682</td>\n",
              "      <td>-0.006482</td>\n",
              "      <td>...</td>\n",
              "      <td>-0.007247</td>\n",
              "      <td>-0.064302</td>\n",
              "      <td>-0.010121</td>\n",
              "      <td>-0.00945</td>\n",
              "      <td>-0.027607</td>\n",
              "      <td>-0.0729</td>\n",
              "      <td>-0.023768</td>\n",
              "      <td>-0.043159</td>\n",
              "      <td>-0.068781</td>\n",
              "      <td>-0.044631</td>\n",
              "    </tr>\n",
              "  </tbody>\n",
              "</table>\n",
              "<p>380799 rows × 3886 columns</p>\n",
              "</div>\n",
              "      <button class=\"colab-df-convert\" onclick=\"convertToInteractive('df-d835b885-8aa2-41bf-9480-9df50e4bdf90')\"\n",
              "              title=\"Convert this dataframe to an interactive table.\"\n",
              "              style=\"display:none;\">\n",
              "        \n",
              "  <svg xmlns=\"http://www.w3.org/2000/svg\" height=\"24px\"viewBox=\"0 0 24 24\"\n",
              "       width=\"24px\">\n",
              "    <path d=\"M0 0h24v24H0V0z\" fill=\"none\"/>\n",
              "    <path d=\"M18.56 5.44l.94 2.06.94-2.06 2.06-.94-2.06-.94-.94-2.06-.94 2.06-2.06.94zm-11 1L8.5 8.5l.94-2.06 2.06-.94-2.06-.94L8.5 2.5l-.94 2.06-2.06.94zm10 10l.94 2.06.94-2.06 2.06-.94-2.06-.94-.94-2.06-.94 2.06-2.06.94z\"/><path d=\"M17.41 7.96l-1.37-1.37c-.4-.4-.92-.59-1.43-.59-.52 0-1.04.2-1.43.59L10.3 9.45l-7.72 7.72c-.78.78-.78 2.05 0 2.83L4 21.41c.39.39.9.59 1.41.59.51 0 1.02-.2 1.41-.59l7.78-7.78 2.81-2.81c.8-.78.8-2.07 0-2.86zM5.41 20L4 18.59l7.72-7.72 1.47 1.35L5.41 20z\"/>\n",
              "  </svg>\n",
              "      </button>\n",
              "      \n",
              "  <style>\n",
              "    .colab-df-container {\n",
              "      display:flex;\n",
              "      flex-wrap:wrap;\n",
              "      gap: 12px;\n",
              "    }\n",
              "\n",
              "    .colab-df-convert {\n",
              "      background-color: #E8F0FE;\n",
              "      border: none;\n",
              "      border-radius: 50%;\n",
              "      cursor: pointer;\n",
              "      display: none;\n",
              "      fill: #1967D2;\n",
              "      height: 32px;\n",
              "      padding: 0 0 0 0;\n",
              "      width: 32px;\n",
              "    }\n",
              "\n",
              "    .colab-df-convert:hover {\n",
              "      background-color: #E2EBFA;\n",
              "      box-shadow: 0px 1px 2px rgba(60, 64, 67, 0.3), 0px 1px 3px 1px rgba(60, 64, 67, 0.15);\n",
              "      fill: #174EA6;\n",
              "    }\n",
              "\n",
              "    [theme=dark] .colab-df-convert {\n",
              "      background-color: #3B4455;\n",
              "      fill: #D2E3FC;\n",
              "    }\n",
              "\n",
              "    [theme=dark] .colab-df-convert:hover {\n",
              "      background-color: #434B5C;\n",
              "      box-shadow: 0px 1px 3px 1px rgba(0, 0, 0, 0.15);\n",
              "      filter: drop-shadow(0px 1px 2px rgba(0, 0, 0, 0.3));\n",
              "      fill: #FFFFFF;\n",
              "    }\n",
              "  </style>\n",
              "\n",
              "      <script>\n",
              "        const buttonEl =\n",
              "          document.querySelector('#df-d835b885-8aa2-41bf-9480-9df50e4bdf90 button.colab-df-convert');\n",
              "        buttonEl.style.display =\n",
              "          google.colab.kernel.accessAllowed ? 'block' : 'none';\n",
              "\n",
              "        async function convertToInteractive(key) {\n",
              "          const element = document.querySelector('#df-d835b885-8aa2-41bf-9480-9df50e4bdf90');\n",
              "          const dataTable =\n",
              "            await google.colab.kernel.invokeFunction('convertToInteractive',\n",
              "                                                     [key], {});\n",
              "          if (!dataTable) return;\n",
              "\n",
              "          const docLinkHtml = 'Like what you see? Visit the ' +\n",
              "            '<a target=\"_blank\" href=https://colab.research.google.com/notebooks/data_table.ipynb>data table notebook</a>'\n",
              "            + ' to learn more about interactive tables.';\n",
              "          element.innerHTML = '';\n",
              "          dataTable['output_type'] = 'display_data';\n",
              "          await google.colab.output.renderOutput(dataTable, element);\n",
              "          const docLink = document.createElement('div');\n",
              "          docLink.innerHTML = docLinkHtml;\n",
              "          element.appendChild(docLink);\n",
              "        }\n",
              "      </script>\n",
              "    </div>\n",
              "  </div>\n",
              "  "
            ]
          },
          "metadata": {},
          "execution_count": 76
        }
      ]
    },
    {
      "cell_type": "markdown",
      "source": [
        "Coding di atas digunakan untuk melakukan transformasi data dari numerik menjadi skala yang memiliki mean (rata-rata) nol dan standar deviasi (deviation) satu."
      ],
      "metadata": {
        "id": "lsYdfGp2g4Zo"
      }
    },
    {
      "cell_type": "markdown",
      "source": [
        "**4.2.2 Normalization**\n",
        "\n",
        "A way to normalize the input features/variables is the Min-Max scaler. By doing so, all features will be transformed into the range [0,1] meaning that the minimum and maximum value of a feature/variable is going to be 0 and 1, respectively.\n",
        "\n",
        "The main idea behind normalization/standardization is always the same. Variables that are measured at different scales do not contribute equally to the model fitting & model learned function and might end up creating a bias. Thus, to deal with this potential problem feature-wise normalization such as MinMax Scaling is usually used prior to model fitting.\n",
        "\n",
        "reference : https://stackoverflow.com/questions/62178888/can-someone-explain-to-me-how-minmaxscaler-works\n"
      ],
      "metadata": {
        "id": "AdhBeaKIFLfN"
      }
    },
    {
      "cell_type": "code",
      "source": [
        "from sklearn.preprocessing import MinMaxScaler\n",
        "x = MinMaxScaler().fit_transform(x)\n",
        "x = pd.DataFrame(x)\n",
        "\n",
        "x"
      ],
      "metadata": {
        "id": "gtFKYb9DlEhV",
        "colab": {
          "base_uri": "https://localhost:8080/",
          "height": 423
        },
        "outputId": "f17adba6-45aa-4083-cb94-2949b1fee832"
      },
      "execution_count": null,
      "outputs": [
        {
          "output_type": "execute_result",
          "data": {
            "text/plain": [
              "            0         1     2     3     4     5     6     7     8     9     \\\n",
              "0       0.473683  0.896142   0.0   0.0   0.0   0.0   0.0   0.0   0.0   0.0   \n",
              "1       0.578945  0.000000   0.0   0.0   0.0   0.0   0.0   0.0   0.0   0.0   \n",
              "2       0.736840  0.000000   0.0   0.0   0.0   0.0   0.0   0.0   0.0   0.0   \n",
              "3       0.894734  0.000000   0.0   0.0   0.0   0.0   0.0   0.0   0.0   0.0   \n",
              "4       0.947366  0.339127   0.0   0.0   0.0   0.0   0.0   0.0   0.0   0.0   \n",
              "...          ...       ...   ...   ...   ...   ...   ...   ...   ...   ...   \n",
              "380794  1.000000  0.000000   0.0   0.0   0.0   0.0   0.0   0.0   0.0   0.0   \n",
              "380795  0.999996  0.000000   0.0   0.0   0.0   0.0   0.0   0.0   0.0   0.0   \n",
              "380796  1.000000  0.000000   0.0   0.0   0.0   0.0   0.0   0.0   0.0   0.0   \n",
              "380797  0.421052  0.577376   0.0   0.0   1.0   0.0   0.0   0.0   0.0   0.0   \n",
              "380798  0.000000  0.577376   1.0   0.0   0.0   0.0   0.0   0.0   0.0   0.0   \n",
              "\n",
              "        ...  3876  3877  3878  3879  3880  3881  3882  3883  3884  3885  \n",
              "0       ...   0.0   0.0   0.0   0.0   0.0   0.0   0.0   0.0   0.0   0.0  \n",
              "1       ...   0.0   0.0   0.0   0.0   0.0   0.0   0.0   0.0   0.0   0.0  \n",
              "2       ...   0.0   0.0   0.0   0.0   0.0   0.0   0.0   0.0   0.0   0.0  \n",
              "3       ...   0.0   0.0   0.0   0.0   0.0   0.0   0.0   0.0   0.0   0.0  \n",
              "4       ...   0.0   0.0   0.0   0.0   0.0   0.0   0.0   0.0   0.0   0.0  \n",
              "...     ...   ...   ...   ...   ...   ...   ...   ...   ...   ...   ...  \n",
              "380794  ...   0.0   0.0   0.0   0.0   0.0   0.0   0.0   0.0   0.0   0.0  \n",
              "380795  ...   0.0   0.0   0.0   0.0   0.0   0.0   0.0   0.0   0.0   0.0  \n",
              "380796  ...   0.0   0.0   0.0   0.0   0.0   0.0   0.0   0.0   0.0   0.0  \n",
              "380797  ...   0.0   0.0   0.0   0.0   0.0   0.0   0.0   0.0   0.0   0.0  \n",
              "380798  ...   0.0   0.0   0.0   0.0   0.0   0.0   0.0   0.0   0.0   0.0  \n",
              "\n",
              "[380799 rows x 3886 columns]"
            ],
            "text/html": [
              "\n",
              "  <div id=\"df-4b36821e-606c-4eef-829f-eac29bc086ae\">\n",
              "    <div class=\"colab-df-container\">\n",
              "      <div>\n",
              "<style scoped>\n",
              "    .dataframe tbody tr th:only-of-type {\n",
              "        vertical-align: middle;\n",
              "    }\n",
              "\n",
              "    .dataframe tbody tr th {\n",
              "        vertical-align: top;\n",
              "    }\n",
              "\n",
              "    .dataframe thead th {\n",
              "        text-align: right;\n",
              "    }\n",
              "</style>\n",
              "<table border=\"1\" class=\"dataframe\">\n",
              "  <thead>\n",
              "    <tr style=\"text-align: right;\">\n",
              "      <th></th>\n",
              "      <th>0</th>\n",
              "      <th>1</th>\n",
              "      <th>2</th>\n",
              "      <th>3</th>\n",
              "      <th>4</th>\n",
              "      <th>5</th>\n",
              "      <th>6</th>\n",
              "      <th>7</th>\n",
              "      <th>8</th>\n",
              "      <th>9</th>\n",
              "      <th>...</th>\n",
              "      <th>3876</th>\n",
              "      <th>3877</th>\n",
              "      <th>3878</th>\n",
              "      <th>3879</th>\n",
              "      <th>3880</th>\n",
              "      <th>3881</th>\n",
              "      <th>3882</th>\n",
              "      <th>3883</th>\n",
              "      <th>3884</th>\n",
              "      <th>3885</th>\n",
              "    </tr>\n",
              "  </thead>\n",
              "  <tbody>\n",
              "    <tr>\n",
              "      <th>0</th>\n",
              "      <td>0.473683</td>\n",
              "      <td>0.896142</td>\n",
              "      <td>0.0</td>\n",
              "      <td>0.0</td>\n",
              "      <td>0.0</td>\n",
              "      <td>0.0</td>\n",
              "      <td>0.0</td>\n",
              "      <td>0.0</td>\n",
              "      <td>0.0</td>\n",
              "      <td>0.0</td>\n",
              "      <td>...</td>\n",
              "      <td>0.0</td>\n",
              "      <td>0.0</td>\n",
              "      <td>0.0</td>\n",
              "      <td>0.0</td>\n",
              "      <td>0.0</td>\n",
              "      <td>0.0</td>\n",
              "      <td>0.0</td>\n",
              "      <td>0.0</td>\n",
              "      <td>0.0</td>\n",
              "      <td>0.0</td>\n",
              "    </tr>\n",
              "    <tr>\n",
              "      <th>1</th>\n",
              "      <td>0.578945</td>\n",
              "      <td>0.000000</td>\n",
              "      <td>0.0</td>\n",
              "      <td>0.0</td>\n",
              "      <td>0.0</td>\n",
              "      <td>0.0</td>\n",
              "      <td>0.0</td>\n",
              "      <td>0.0</td>\n",
              "      <td>0.0</td>\n",
              "      <td>0.0</td>\n",
              "      <td>...</td>\n",
              "      <td>0.0</td>\n",
              "      <td>0.0</td>\n",
              "      <td>0.0</td>\n",
              "      <td>0.0</td>\n",
              "      <td>0.0</td>\n",
              "      <td>0.0</td>\n",
              "      <td>0.0</td>\n",
              "      <td>0.0</td>\n",
              "      <td>0.0</td>\n",
              "      <td>0.0</td>\n",
              "    </tr>\n",
              "    <tr>\n",
              "      <th>2</th>\n",
              "      <td>0.736840</td>\n",
              "      <td>0.000000</td>\n",
              "      <td>0.0</td>\n",
              "      <td>0.0</td>\n",
              "      <td>0.0</td>\n",
              "      <td>0.0</td>\n",
              "      <td>0.0</td>\n",
              "      <td>0.0</td>\n",
              "      <td>0.0</td>\n",
              "      <td>0.0</td>\n",
              "      <td>...</td>\n",
              "      <td>0.0</td>\n",
              "      <td>0.0</td>\n",
              "      <td>0.0</td>\n",
              "      <td>0.0</td>\n",
              "      <td>0.0</td>\n",
              "      <td>0.0</td>\n",
              "      <td>0.0</td>\n",
              "      <td>0.0</td>\n",
              "      <td>0.0</td>\n",
              "      <td>0.0</td>\n",
              "    </tr>\n",
              "    <tr>\n",
              "      <th>3</th>\n",
              "      <td>0.894734</td>\n",
              "      <td>0.000000</td>\n",
              "      <td>0.0</td>\n",
              "      <td>0.0</td>\n",
              "      <td>0.0</td>\n",
              "      <td>0.0</td>\n",
              "      <td>0.0</td>\n",
              "      <td>0.0</td>\n",
              "      <td>0.0</td>\n",
              "      <td>0.0</td>\n",
              "      <td>...</td>\n",
              "      <td>0.0</td>\n",
              "      <td>0.0</td>\n",
              "      <td>0.0</td>\n",
              "      <td>0.0</td>\n",
              "      <td>0.0</td>\n",
              "      <td>0.0</td>\n",
              "      <td>0.0</td>\n",
              "      <td>0.0</td>\n",
              "      <td>0.0</td>\n",
              "      <td>0.0</td>\n",
              "    </tr>\n",
              "    <tr>\n",
              "      <th>4</th>\n",
              "      <td>0.947366</td>\n",
              "      <td>0.339127</td>\n",
              "      <td>0.0</td>\n",
              "      <td>0.0</td>\n",
              "      <td>0.0</td>\n",
              "      <td>0.0</td>\n",
              "      <td>0.0</td>\n",
              "      <td>0.0</td>\n",
              "      <td>0.0</td>\n",
              "      <td>0.0</td>\n",
              "      <td>...</td>\n",
              "      <td>0.0</td>\n",
              "      <td>0.0</td>\n",
              "      <td>0.0</td>\n",
              "      <td>0.0</td>\n",
              "      <td>0.0</td>\n",
              "      <td>0.0</td>\n",
              "      <td>0.0</td>\n",
              "      <td>0.0</td>\n",
              "      <td>0.0</td>\n",
              "      <td>0.0</td>\n",
              "    </tr>\n",
              "    <tr>\n",
              "      <th>...</th>\n",
              "      <td>...</td>\n",
              "      <td>...</td>\n",
              "      <td>...</td>\n",
              "      <td>...</td>\n",
              "      <td>...</td>\n",
              "      <td>...</td>\n",
              "      <td>...</td>\n",
              "      <td>...</td>\n",
              "      <td>...</td>\n",
              "      <td>...</td>\n",
              "      <td>...</td>\n",
              "      <td>...</td>\n",
              "      <td>...</td>\n",
              "      <td>...</td>\n",
              "      <td>...</td>\n",
              "      <td>...</td>\n",
              "      <td>...</td>\n",
              "      <td>...</td>\n",
              "      <td>...</td>\n",
              "      <td>...</td>\n",
              "      <td>...</td>\n",
              "    </tr>\n",
              "    <tr>\n",
              "      <th>380794</th>\n",
              "      <td>1.000000</td>\n",
              "      <td>0.000000</td>\n",
              "      <td>0.0</td>\n",
              "      <td>0.0</td>\n",
              "      <td>0.0</td>\n",
              "      <td>0.0</td>\n",
              "      <td>0.0</td>\n",
              "      <td>0.0</td>\n",
              "      <td>0.0</td>\n",
              "      <td>0.0</td>\n",
              "      <td>...</td>\n",
              "      <td>0.0</td>\n",
              "      <td>0.0</td>\n",
              "      <td>0.0</td>\n",
              "      <td>0.0</td>\n",
              "      <td>0.0</td>\n",
              "      <td>0.0</td>\n",
              "      <td>0.0</td>\n",
              "      <td>0.0</td>\n",
              "      <td>0.0</td>\n",
              "      <td>0.0</td>\n",
              "    </tr>\n",
              "    <tr>\n",
              "      <th>380795</th>\n",
              "      <td>0.999996</td>\n",
              "      <td>0.000000</td>\n",
              "      <td>0.0</td>\n",
              "      <td>0.0</td>\n",
              "      <td>0.0</td>\n",
              "      <td>0.0</td>\n",
              "      <td>0.0</td>\n",
              "      <td>0.0</td>\n",
              "      <td>0.0</td>\n",
              "      <td>0.0</td>\n",
              "      <td>...</td>\n",
              "      <td>0.0</td>\n",
              "      <td>0.0</td>\n",
              "      <td>0.0</td>\n",
              "      <td>0.0</td>\n",
              "      <td>0.0</td>\n",
              "      <td>0.0</td>\n",
              "      <td>0.0</td>\n",
              "      <td>0.0</td>\n",
              "      <td>0.0</td>\n",
              "      <td>0.0</td>\n",
              "    </tr>\n",
              "    <tr>\n",
              "      <th>380796</th>\n",
              "      <td>1.000000</td>\n",
              "      <td>0.000000</td>\n",
              "      <td>0.0</td>\n",
              "      <td>0.0</td>\n",
              "      <td>0.0</td>\n",
              "      <td>0.0</td>\n",
              "      <td>0.0</td>\n",
              "      <td>0.0</td>\n",
              "      <td>0.0</td>\n",
              "      <td>0.0</td>\n",
              "      <td>...</td>\n",
              "      <td>0.0</td>\n",
              "      <td>0.0</td>\n",
              "      <td>0.0</td>\n",
              "      <td>0.0</td>\n",
              "      <td>0.0</td>\n",
              "      <td>0.0</td>\n",
              "      <td>0.0</td>\n",
              "      <td>0.0</td>\n",
              "      <td>0.0</td>\n",
              "      <td>0.0</td>\n",
              "    </tr>\n",
              "    <tr>\n",
              "      <th>380797</th>\n",
              "      <td>0.421052</td>\n",
              "      <td>0.577376</td>\n",
              "      <td>0.0</td>\n",
              "      <td>0.0</td>\n",
              "      <td>1.0</td>\n",
              "      <td>0.0</td>\n",
              "      <td>0.0</td>\n",
              "      <td>0.0</td>\n",
              "      <td>0.0</td>\n",
              "      <td>0.0</td>\n",
              "      <td>...</td>\n",
              "      <td>0.0</td>\n",
              "      <td>0.0</td>\n",
              "      <td>0.0</td>\n",
              "      <td>0.0</td>\n",
              "      <td>0.0</td>\n",
              "      <td>0.0</td>\n",
              "      <td>0.0</td>\n",
              "      <td>0.0</td>\n",
              "      <td>0.0</td>\n",
              "      <td>0.0</td>\n",
              "    </tr>\n",
              "    <tr>\n",
              "      <th>380798</th>\n",
              "      <td>0.000000</td>\n",
              "      <td>0.577376</td>\n",
              "      <td>1.0</td>\n",
              "      <td>0.0</td>\n",
              "      <td>0.0</td>\n",
              "      <td>0.0</td>\n",
              "      <td>0.0</td>\n",
              "      <td>0.0</td>\n",
              "      <td>0.0</td>\n",
              "      <td>0.0</td>\n",
              "      <td>...</td>\n",
              "      <td>0.0</td>\n",
              "      <td>0.0</td>\n",
              "      <td>0.0</td>\n",
              "      <td>0.0</td>\n",
              "      <td>0.0</td>\n",
              "      <td>0.0</td>\n",
              "      <td>0.0</td>\n",
              "      <td>0.0</td>\n",
              "      <td>0.0</td>\n",
              "      <td>0.0</td>\n",
              "    </tr>\n",
              "  </tbody>\n",
              "</table>\n",
              "<p>380799 rows × 3886 columns</p>\n",
              "</div>\n",
              "      <button class=\"colab-df-convert\" onclick=\"convertToInteractive('df-4b36821e-606c-4eef-829f-eac29bc086ae')\"\n",
              "              title=\"Convert this dataframe to an interactive table.\"\n",
              "              style=\"display:none;\">\n",
              "        \n",
              "  <svg xmlns=\"http://www.w3.org/2000/svg\" height=\"24px\"viewBox=\"0 0 24 24\"\n",
              "       width=\"24px\">\n",
              "    <path d=\"M0 0h24v24H0V0z\" fill=\"none\"/>\n",
              "    <path d=\"M18.56 5.44l.94 2.06.94-2.06 2.06-.94-2.06-.94-.94-2.06-.94 2.06-2.06.94zm-11 1L8.5 8.5l.94-2.06 2.06-.94-2.06-.94L8.5 2.5l-.94 2.06-2.06.94zm10 10l.94 2.06.94-2.06 2.06-.94-2.06-.94-.94-2.06-.94 2.06-2.06.94z\"/><path d=\"M17.41 7.96l-1.37-1.37c-.4-.4-.92-.59-1.43-.59-.52 0-1.04.2-1.43.59L10.3 9.45l-7.72 7.72c-.78.78-.78 2.05 0 2.83L4 21.41c.39.39.9.59 1.41.59.51 0 1.02-.2 1.41-.59l7.78-7.78 2.81-2.81c.8-.78.8-2.07 0-2.86zM5.41 20L4 18.59l7.72-7.72 1.47 1.35L5.41 20z\"/>\n",
              "  </svg>\n",
              "      </button>\n",
              "      \n",
              "  <style>\n",
              "    .colab-df-container {\n",
              "      display:flex;\n",
              "      flex-wrap:wrap;\n",
              "      gap: 12px;\n",
              "    }\n",
              "\n",
              "    .colab-df-convert {\n",
              "      background-color: #E8F0FE;\n",
              "      border: none;\n",
              "      border-radius: 50%;\n",
              "      cursor: pointer;\n",
              "      display: none;\n",
              "      fill: #1967D2;\n",
              "      height: 32px;\n",
              "      padding: 0 0 0 0;\n",
              "      width: 32px;\n",
              "    }\n",
              "\n",
              "    .colab-df-convert:hover {\n",
              "      background-color: #E2EBFA;\n",
              "      box-shadow: 0px 1px 2px rgba(60, 64, 67, 0.3), 0px 1px 3px 1px rgba(60, 64, 67, 0.15);\n",
              "      fill: #174EA6;\n",
              "    }\n",
              "\n",
              "    [theme=dark] .colab-df-convert {\n",
              "      background-color: #3B4455;\n",
              "      fill: #D2E3FC;\n",
              "    }\n",
              "\n",
              "    [theme=dark] .colab-df-convert:hover {\n",
              "      background-color: #434B5C;\n",
              "      box-shadow: 0px 1px 3px 1px rgba(0, 0, 0, 0.15);\n",
              "      filter: drop-shadow(0px 1px 2px rgba(0, 0, 0, 0.3));\n",
              "      fill: #FFFFFF;\n",
              "    }\n",
              "  </style>\n",
              "\n",
              "      <script>\n",
              "        const buttonEl =\n",
              "          document.querySelector('#df-4b36821e-606c-4eef-829f-eac29bc086ae button.colab-df-convert');\n",
              "        buttonEl.style.display =\n",
              "          google.colab.kernel.accessAllowed ? 'block' : 'none';\n",
              "\n",
              "        async function convertToInteractive(key) {\n",
              "          const element = document.querySelector('#df-4b36821e-606c-4eef-829f-eac29bc086ae');\n",
              "          const dataTable =\n",
              "            await google.colab.kernel.invokeFunction('convertToInteractive',\n",
              "                                                     [key], {});\n",
              "          if (!dataTable) return;\n",
              "\n",
              "          const docLinkHtml = 'Like what you see? Visit the ' +\n",
              "            '<a target=\"_blank\" href=https://colab.research.google.com/notebooks/data_table.ipynb>data table notebook</a>'\n",
              "            + ' to learn more about interactive tables.';\n",
              "          element.innerHTML = '';\n",
              "          dataTable['output_type'] = 'display_data';\n",
              "          await google.colab.output.renderOutput(dataTable, element);\n",
              "          const docLink = document.createElement('div');\n",
              "          docLink.innerHTML = docLinkHtml;\n",
              "          element.appendChild(docLink);\n",
              "        }\n",
              "      </script>\n",
              "    </div>\n",
              "  </div>\n",
              "  "
            ]
          },
          "metadata": {},
          "execution_count": 43
        }
      ]
    },
    {
      "cell_type": "markdown",
      "source": [
        "Normalisasi data berguna untuk mengubah skala data agar memiliki rentang nilai yang sama sehingga memudahkan dalam analisis dan pemodelan. Dalam contoh codingan di atas, MinMaxScaler digunakan untuk melakukan normalisasi data pada variabel x. "
      ],
      "metadata": {
        "id": "zKsreg9NhItP"
      }
    },
    {
      "cell_type": "markdown",
      "source": [],
      "metadata": {
        "id": "xwvHm6oug7g2"
      }
    },
    {
      "cell_type": "markdown",
      "source": [
        "**4.3 Splitting**"
      ],
      "metadata": {
        "id": "U5mVChyqI7e9"
      }
    },
    {
      "cell_type": "code",
      "source": [
        "from sklearn.model_selection import train_test_split\n",
        "xTrain, xTest, yTrain, yTest = train_test_split(x, y, train_size=0.8, random_state=1, stratify=y)"
      ],
      "metadata": {
        "id": "ACJMGLAHigHI"
      },
      "execution_count": null,
      "outputs": []
    },
    {
      "cell_type": "code",
      "source": [
        "from sklearn.datasets import make_blobs\n",
        "from sklearn.model_selection import train_test_split\n",
        "x,y = make_blobs(n_samples=1000)\n",
        "xTrain, xTest, yTrain, yTest = train_test_split(x, y, test_size=0.33, random_state=1, stratify=y)"
      ],
      "metadata": {
        "id": "yWM0Z4IFc9Tb"
      },
      "execution_count": null,
      "outputs": []
    },
    {
      "cell_type": "code",
      "source": [
        "from collections import Counter\n",
        "print(\"Train distribution\", Counter(yTrain))\n",
        "print(\"Test distribution\", Counter(yTest))"
      ],
      "metadata": {
        "colab": {
          "base_uri": "https://localhost:8080/"
        },
        "id": "sSICmqDpMomI",
        "outputId": "b7572c39-ce8d-4834-b949-494f73e489bc"
      },
      "execution_count": null,
      "outputs": [
        {
          "output_type": "stream",
          "name": "stdout",
          "text": [
            "Train distribution Counter({0: 224, 1: 223, 2: 223})\n",
            "Test distribution Counter({0: 110, 1: 110, 2: 110})\n"
          ]
        }
      ]
    },
    {
      "cell_type": "markdown",
      "source": [
        "Coding diatas digunakan untuk membagi dataset menjadi subset yang baru, dibagi menjadi dua subset yaitu Train distributor dan test distribution."
      ],
      "metadata": {
        "id": "UpudFQPHhNmD"
      }
    },
    {
      "cell_type": "markdown",
      "source": [
        "This stratify parameter makes a split so that the proportion of values in the sample produced will be the same as the proportion of values provided to parameter stratify.\n",
        "\n",
        "For example, if variable y is a binary categorical variable with values 0 and 1 and there are 25% of zeros and 75% of ones, stratify=y will make sure that your random split has 25% of 0's and 75% of 1's.\n",
        "\n",
        "For more: https://stackoverflow.com/questions/34842405/parameter-stratify-from-method-train-test-split-scikit-learn"
      ],
      "metadata": {
        "id": "QyCbWtbCI3v5"
      }
    },
    {
      "cell_type": "markdown",
      "source": [
        "Tugas praktekkan dengan dataset yg berbeda dari kaggle dan upload di github\n"
      ],
      "metadata": {
        "id": "an04NDqXOUHT"
      }
    },
    {
      "cell_type": "code",
      "source": [
        "from sklearn.linear_model import LogisticRegression\n",
        "\n",
        "models = []\n",
        "models.append(('LR', LogisticRegression()))"
      ],
      "metadata": {
        "id": "-9rDCS2vNw0D"
      },
      "execution_count": null,
      "outputs": []
    },
    {
      "cell_type": "code",
      "source": [
        "results_c = []\n",
        "names_c = []\n",
        "\n",
        "for name, model in models:\n",
        "    # define how to split off validation data ('kfold' how many folds)\n",
        "    kfold = KFold(n_splits=10)    \n",
        "    # train the model\n",
        "    cv_results = cross_val_score(model, xTrain, yTrain, cv=kfold, scoring='accuracy')    \n",
        "    results_c.append(cv_results)\n",
        "    names_c.append(name)\n",
        "    msg = \"%s: %f (%f)\" % (name, cv_results.mean(), cv_results.std())\n",
        "    print(msg)"
      ],
      "metadata": {
        "colab": {
          "base_uri": "https://localhost:8080/"
        },
        "id": "4_yApp8fqKar",
        "outputId": "2f271817-0c27-4fbc-a3f2-e20b12238298"
      },
      "execution_count": null,
      "outputs": [
        {
          "output_type": "stream",
          "name": "stdout",
          "text": [
            "LR: 1.000000 (0.000000)\n"
          ]
        }
      ]
    },
    {
      "cell_type": "markdown",
      "source": [
        "Coding diatas mencari nilai dari regresi logistik yang ada pada dataset diatas"
      ],
      "metadata": {
        "id": "5boHvb2hhinT"
      }
    },
    {
      "cell_type": "code",
      "source": [
        "LR = LogisticRegression()\n",
        "LR.fit(xTrain, yTrain)"
      ],
      "metadata": {
        "colab": {
          "base_uri": "https://localhost:8080/",
          "height": 74
        },
        "id": "xQ1qS0elrBK6",
        "outputId": "ee343147-5948-42b8-a8a1-165eca0c4be7"
      },
      "execution_count": null,
      "outputs": [
        {
          "output_type": "execute_result",
          "data": {
            "text/plain": [
              "LogisticRegression()"
            ],
            "text/html": [
              "<style>#sk-container-id-3 {color: black;background-color: white;}#sk-container-id-3 pre{padding: 0;}#sk-container-id-3 div.sk-toggleable {background-color: white;}#sk-container-id-3 label.sk-toggleable__label {cursor: pointer;display: block;width: 100%;margin-bottom: 0;padding: 0.3em;box-sizing: border-box;text-align: center;}#sk-container-id-3 label.sk-toggleable__label-arrow:before {content: \"▸\";float: left;margin-right: 0.25em;color: #696969;}#sk-container-id-3 label.sk-toggleable__label-arrow:hover:before {color: black;}#sk-container-id-3 div.sk-estimator:hover label.sk-toggleable__label-arrow:before {color: black;}#sk-container-id-3 div.sk-toggleable__content {max-height: 0;max-width: 0;overflow: hidden;text-align: left;background-color: #f0f8ff;}#sk-container-id-3 div.sk-toggleable__content pre {margin: 0.2em;color: black;border-radius: 0.25em;background-color: #f0f8ff;}#sk-container-id-3 input.sk-toggleable__control:checked~div.sk-toggleable__content {max-height: 200px;max-width: 100%;overflow: auto;}#sk-container-id-3 input.sk-toggleable__control:checked~label.sk-toggleable__label-arrow:before {content: \"▾\";}#sk-container-id-3 div.sk-estimator input.sk-toggleable__control:checked~label.sk-toggleable__label {background-color: #d4ebff;}#sk-container-id-3 div.sk-label input.sk-toggleable__control:checked~label.sk-toggleable__label {background-color: #d4ebff;}#sk-container-id-3 input.sk-hidden--visually {border: 0;clip: rect(1px 1px 1px 1px);clip: rect(1px, 1px, 1px, 1px);height: 1px;margin: -1px;overflow: hidden;padding: 0;position: absolute;width: 1px;}#sk-container-id-3 div.sk-estimator {font-family: monospace;background-color: #f0f8ff;border: 1px dotted black;border-radius: 0.25em;box-sizing: border-box;margin-bottom: 0.5em;}#sk-container-id-3 div.sk-estimator:hover {background-color: #d4ebff;}#sk-container-id-3 div.sk-parallel-item::after {content: \"\";width: 100%;border-bottom: 1px solid gray;flex-grow: 1;}#sk-container-id-3 div.sk-label:hover label.sk-toggleable__label {background-color: #d4ebff;}#sk-container-id-3 div.sk-serial::before {content: \"\";position: absolute;border-left: 1px solid gray;box-sizing: border-box;top: 0;bottom: 0;left: 50%;z-index: 0;}#sk-container-id-3 div.sk-serial {display: flex;flex-direction: column;align-items: center;background-color: white;padding-right: 0.2em;padding-left: 0.2em;position: relative;}#sk-container-id-3 div.sk-item {position: relative;z-index: 1;}#sk-container-id-3 div.sk-parallel {display: flex;align-items: stretch;justify-content: center;background-color: white;position: relative;}#sk-container-id-3 div.sk-item::before, #sk-container-id-3 div.sk-parallel-item::before {content: \"\";position: absolute;border-left: 1px solid gray;box-sizing: border-box;top: 0;bottom: 0;left: 50%;z-index: -1;}#sk-container-id-3 div.sk-parallel-item {display: flex;flex-direction: column;z-index: 1;position: relative;background-color: white;}#sk-container-id-3 div.sk-parallel-item:first-child::after {align-self: flex-end;width: 50%;}#sk-container-id-3 div.sk-parallel-item:last-child::after {align-self: flex-start;width: 50%;}#sk-container-id-3 div.sk-parallel-item:only-child::after {width: 0;}#sk-container-id-3 div.sk-dashed-wrapped {border: 1px dashed gray;margin: 0 0.4em 0.5em 0.4em;box-sizing: border-box;padding-bottom: 0.4em;background-color: white;}#sk-container-id-3 div.sk-label label {font-family: monospace;font-weight: bold;display: inline-block;line-height: 1.2em;}#sk-container-id-3 div.sk-label-container {text-align: center;}#sk-container-id-3 div.sk-container {/* jupyter's `normalize.less` sets `[hidden] { display: none; }` but bootstrap.min.css set `[hidden] { display: none !important; }` so we also need the `!important` here to be able to override the default hidden behavior on the sphinx rendered scikit-learn.org. See: https://github.com/scikit-learn/scikit-learn/issues/21755 */display: inline-block !important;position: relative;}#sk-container-id-3 div.sk-text-repr-fallback {display: none;}</style><div id=\"sk-container-id-3\" class=\"sk-top-container\"><div class=\"sk-text-repr-fallback\"><pre>LogisticRegression()</pre><b>In a Jupyter environment, please rerun this cell to show the HTML representation or trust the notebook. <br />On GitHub, the HTML representation is unable to render, please try loading this page with nbviewer.org.</b></div><div class=\"sk-container\" hidden><div class=\"sk-item\"><div class=\"sk-estimator sk-toggleable\"><input class=\"sk-toggleable__control sk-hidden--visually\" id=\"sk-estimator-id-3\" type=\"checkbox\" checked><label for=\"sk-estimator-id-3\" class=\"sk-toggleable__label sk-toggleable__label-arrow\">LogisticRegression</label><div class=\"sk-toggleable__content\"><pre>LogisticRegression()</pre></div></div></div></div></div>"
            ]
          },
          "metadata": {},
          "execution_count": 49
        }
      ]
    },
    {
      "cell_type": "markdown",
      "source": [
        "Coding diatas digunakan untuk implementasi dari nilai regresi logistik"
      ],
      "metadata": {
        "id": "D9np9HOzhncI"
      }
    },
    {
      "cell_type": "code",
      "source": [
        "predictions = LR.predict(xTest)\n",
        "print(accuracy_score(yTest, predictions))"
      ],
      "metadata": {
        "id": "08s4bURXrm0U",
        "colab": {
          "base_uri": "https://localhost:8080/"
        },
        "outputId": "8685e499-3c6d-4567-83ec-41b22840aebd"
      },
      "execution_count": null,
      "outputs": [
        {
          "output_type": "stream",
          "name": "stdout",
          "text": [
            "1.0\n"
          ]
        }
      ]
    },
    {
      "cell_type": "markdown",
      "source": [
        "Codingan tersebut merupakan perintah untuk melakukan prediksi dan mengevaluasi kinerja model yang telah dilatih menggunakan algoritma Regresi Logistik. Semakin tinggi nilai akurasi, semakin baik kinerja model dalam melakukan klasifikasi pada data uji."
      ],
      "metadata": {
        "id": "jnhBTBzZiCKb"
      }
    },
    {
      "cell_type": "code",
      "source": [
        "# Confusion Matrix \n",
        "from sklearn.metrics import confusion_matrix\n",
        "import pylab as pl\n",
        "\n",
        "print(confusion_matrix(yTest, predictions))\n",
        "\n",
        "cm = confusion_matrix(yTest, predictions)\n",
        "pl.matshow(cm)\n",
        "pl.title('Confusion matrix of the classifier')\n",
        "pl.colorbar()\n",
        "pl.show()"
      ],
      "metadata": {
        "colab": {
          "base_uri": "https://localhost:8080/",
          "height": 724
        },
        "id": "Wh2-d2uCr17a",
        "outputId": "46620b97-4bb5-40ab-af2a-fc280121b138"
      },
      "execution_count": null,
      "outputs": [
        {
          "output_type": "stream",
          "name": "stdout",
          "text": [
            "[[110   0   0]\n",
            " [  0 110   0]\n",
            " [  0   0 110]]\n"
          ]
        },
        {
          "output_type": "display_data",
          "data": {
            "text/plain": [
              "<Figure size 800x800 with 2 Axes>"
            ],
            "image/png": "[encoded data removed]"
          },
          "metadata": {}
        }
      ]
    },
    {
      "cell_type": "markdown",
      "source": [
        "Coding di atas menggambarkan hasil matriks dari dataset yang sudah diperbaiki dan dihilangkan missing valuenya."
      ],
      "metadata": {
        "id": "Giz7DZuXiJ2E"
      }
    },
    {
      "cell_type": "code",
      "source": [
        "# Classification Report\n",
        "from sklearn.metrics import classification_report\n",
        "print(classification_report(yTest, predictions))"
      ],
      "metadata": {
        "colab": {
          "base_uri": "https://localhost:8080/"
        },
        "id": "gL6HppHzsRBw",
        "outputId": "45cea97a-d368-4d7e-81ff-d63ad5f999b9"
      },
      "execution_count": null,
      "outputs": [
        {
          "output_type": "stream",
          "name": "stdout",
          "text": [
            "              precision    recall  f1-score   support\n",
            "\n",
            "           0       1.00      1.00      1.00       110\n",
            "           1       1.00      1.00      1.00       110\n",
            "           2       1.00      1.00      1.00       110\n",
            "\n",
            "    accuracy                           1.00       330\n",
            "   macro avg       1.00      1.00      1.00       330\n",
            "weighted avg       1.00      1.00      1.00       330\n",
            "\n"
          ]
        }
      ]
    },
    {
      "cell_type": "markdown",
      "source": [
        "Codingan tersebut merupakan perintah untuk menampilkan laporan klasifikasi yang berisi berbagai metrik evaluasi kinerja model klasifikasi. Laporan klasifikasi menampilkan berbagai metrik evaluasi kinerja model klasifikasi, antara lain precision, recall, f1-score, dan support. "
      ],
      "metadata": {
        "id": "Jt-gZOlbiNAM"
      }
    }
  ],
  "metadata": {
    "accelerator": "TPU",
    "colab": {
      "provenance": [],
      "machine_shape": "hm",
      "include_colab_link": true
    },
    "kernelspec": {
      "display_name": "Python 3",
      "name": "python3"
    },
    "gpuClass": "premium"
  },
  "nbformat": 4,
  "nbformat_minor": 0
}